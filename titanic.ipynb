{
 "cells": [
  {
   "cell_type": "markdown",
   "id": "79064984",
   "metadata": {
    "papermill": {
     "duration": 0.014175,
     "end_time": "2024-09-30T08:12:55.935264",
     "exception": false,
     "start_time": "2024-09-30T08:12:55.921089",
     "status": "completed"
    },
    "tags": []
   },
   "source": [
    "**Importing Libraries :**"
   ]
  },
  {
   "cell_type": "code",
   "execution_count": 1,
   "id": "50bd2a7d",
   "metadata": {
    "execution": {
     "iopub.execute_input": "2024-09-30T08:12:55.964329Z",
     "iopub.status.busy": "2024-09-30T08:12:55.963779Z",
     "iopub.status.idle": "2024-09-30T08:12:59.116273Z",
     "shell.execute_reply": "2024-09-30T08:12:59.114715Z"
    },
    "papermill": {
     "duration": 3.170623,
     "end_time": "2024-09-30T08:12:59.119405",
     "exception": false,
     "start_time": "2024-09-30T08:12:55.948782",
     "status": "completed"
    },
    "tags": []
   },
   "outputs": [],
   "source": [
    "import numpy as np\n",
    "import pandas as pd\n",
    "import os\n",
    "from pathlib import Path\n",
    "import matplotlib as plt\n",
    "from sklearn.neighbors import KNeighborsClassifier\n",
    "from sklearn.model_selection import cross_val_score\n",
    "from sklearn.model_selection import cross_val_predict\n",
    "from sklearn.metrics import ConfusionMatrixDisplay\n",
    "from sklearn.pipeline import Pipeline\n",
    "from sklearn.model_selection import GridSearchCV\n",
    "from scipy.ndimage import shift\n",
    "from IPython.display import clear_output\n",
    "from sklearn.impute import SimpleImputer\n",
    "from sklearn.preprocessing import OneHotEncoder\n",
    "from sklearn.tree import DecisionTreeClassifier\n",
    "from sklearn.ensemble import RandomForestClassifier\n",
    "from sklearn.preprocessing import OrdinalEncoder\n",
    "import seaborn\n",
    "from sklearn.preprocessing import StandardScaler\n",
    "from sklearn.svm import SVC\n",
    "#import joypy\n",
    "#import pywaffle"
   ]
  },
  {
   "cell_type": "markdown",
   "id": "414d2dfc",
   "metadata": {
    "papermill": {
     "duration": 0.013024,
     "end_time": "2024-09-30T08:12:59.148056",
     "exception": false,
     "start_time": "2024-09-30T08:12:59.135032",
     "status": "completed"
    },
    "tags": []
   },
   "source": [
    "**Listing files under the input directory :**"
   ]
  },
  {
   "cell_type": "code",
   "execution_count": 2,
   "id": "69aec692",
   "metadata": {
    "execution": {
     "iopub.execute_input": "2024-09-30T08:12:59.179469Z",
     "iopub.status.busy": "2024-09-30T08:12:59.178887Z",
     "iopub.status.idle": "2024-09-30T08:12:59.187030Z",
     "shell.execute_reply": "2024-09-30T08:12:59.185831Z"
    },
    "papermill": {
     "duration": 0.029461,
     "end_time": "2024-09-30T08:12:59.190832",
     "exception": false,
     "start_time": "2024-09-30T08:12:59.161371",
     "status": "completed"
    },
    "tags": []
   },
   "outputs": [
    {
     "name": "stdout",
     "output_type": "stream",
     "text": [
      "/kaggle/input/titanic/train.csv\n",
      "/kaggle/input/titanic/test.csv\n",
      "/kaggle/input/titanic/gender_submission.csv\n"
     ]
    }
   ],
   "source": [
    "for dirname, _, filenames in os.walk('/kaggle/input'):\n",
    "    for filename in filenames:\n",
    "        print(os.path.join(dirname, filename))"
   ]
  },
  {
   "cell_type": "markdown",
   "id": "70b01549",
   "metadata": {
    "papermill": {
     "duration": 0.013762,
     "end_time": "2024-09-30T08:12:59.224361",
     "exception": false,
     "start_time": "2024-09-30T08:12:59.210599",
     "status": "completed"
    },
    "tags": []
   },
   "source": [
    "**Reading CSV files:**"
   ]
  },
  {
   "cell_type": "code",
   "execution_count": 3,
   "id": "c27db8b8",
   "metadata": {
    "execution": {
     "iopub.execute_input": "2024-09-30T08:12:59.255454Z",
     "iopub.status.busy": "2024-09-30T08:12:59.255037Z",
     "iopub.status.idle": "2024-09-30T08:12:59.307234Z",
     "shell.execute_reply": "2024-09-30T08:12:59.306072Z"
    },
    "papermill": {
     "duration": 0.071458,
     "end_time": "2024-09-30T08:12:59.309915",
     "exception": false,
     "start_time": "2024-09-30T08:12:59.238457",
     "status": "completed"
    },
    "tags": []
   },
   "outputs": [],
   "source": [
    "train_data = pd.read_csv(Path(\"/kaggle/input/titanic/train.csv\"))\n",
    "test_data = pd.read_csv(Path(\"/kaggle/input/titanic/test.csv\"))\n",
    "gender_submission = pd.read_csv(Path(\"/kaggle/input/titanic/gender_submission.csv\"))\n",
    "train_data = train_data.drop(\"PassengerId\",axis=1)\n",
    "test_data = test_data.drop(\"PassengerId\",axis=1)"
   ]
  },
  {
   "cell_type": "markdown",
   "id": "16766cc6",
   "metadata": {
    "papermill": {
     "duration": 0.012989,
     "end_time": "2024-09-30T08:12:59.336527",
     "exception": false,
     "start_time": "2024-09-30T08:12:59.323538",
     "status": "completed"
    },
    "tags": []
   },
   "source": [
    "**Preparing the data:**"
   ]
  },
  {
   "cell_type": "code",
   "execution_count": 4,
   "id": "00cc31c7",
   "metadata": {
    "execution": {
     "iopub.execute_input": "2024-09-30T08:12:59.365455Z",
     "iopub.status.busy": "2024-09-30T08:12:59.364323Z",
     "iopub.status.idle": "2024-09-30T08:12:59.371984Z",
     "shell.execute_reply": "2024-09-30T08:12:59.371002Z"
    },
    "papermill": {
     "duration": 0.024605,
     "end_time": "2024-09-30T08:12:59.374407",
     "exception": false,
     "start_time": "2024-09-30T08:12:59.349802",
     "status": "completed"
    },
    "tags": []
   },
   "outputs": [],
   "source": [
    "def opaw_tabular_histogram(dataframe,title=\"Histogram\",maxcolors=32):\n",
    "    #import matplotlib as plt\n",
    "    canvas , pic = plt.pyplot.subplots(1,1,figsize=(12,6))\n",
    "    comap = plt.cm.get_cmap(\"rainbow\",256)\n",
    "    newcolors = comap(np.linspace(0, 1, maxcolors))\n",
    "    dataframe.plot.hist(ax=pic,color=newcolors)\n",
    "    pic.set_title(title,fontsize= 20.0)\n",
    "    pic.legend(ncol=2,loc =\"upper right\")\n",
    "    canvas.tight_layout()\n",
    "    canvas.show()\n",
    "    return"
   ]
  },
  {
   "cell_type": "code",
   "execution_count": 5,
   "id": "25f5cbcc",
   "metadata": {
    "execution": {
     "iopub.execute_input": "2024-09-30T08:12:59.403322Z",
     "iopub.status.busy": "2024-09-30T08:12:59.402333Z",
     "iopub.status.idle": "2024-09-30T08:12:59.409821Z",
     "shell.execute_reply": "2024-09-30T08:12:59.408712Z"
    },
    "papermill": {
     "duration": 0.024582,
     "end_time": "2024-09-30T08:12:59.412198",
     "exception": false,
     "start_time": "2024-09-30T08:12:59.387616",
     "status": "completed"
    },
    "tags": []
   },
   "outputs": [],
   "source": [
    "def _fetch_token_index(value,arr):\n",
    "    for i , x in enumerate(arr) :\n",
    "        if (value==x):\n",
    "            return i\n",
    "    return\n",
    "\n",
    "\n",
    "def add_token_index(dataframe,df_colname):\n",
    "    for col in df_colname:\n",
    "        tname = col + \"_tokenize\"\n",
    "        arrname = dataframe[col].unique()\n",
    "        dataframe[tname] = dataframe[col].apply(_fetch_token_index,args=(arrname,))\n",
    "    return"
   ]
  },
  {
   "cell_type": "code",
   "execution_count": 6,
   "id": "e50d6bd8",
   "metadata": {
    "execution": {
     "iopub.execute_input": "2024-09-30T08:12:59.440842Z",
     "iopub.status.busy": "2024-09-30T08:12:59.440399Z",
     "iopub.status.idle": "2024-09-30T08:12:59.446317Z",
     "shell.execute_reply": "2024-09-30T08:12:59.445234Z"
    },
    "papermill": {
     "duration": 0.023063,
     "end_time": "2024-09-30T08:12:59.448613",
     "exception": false,
     "start_time": "2024-09-30T08:12:59.425550",
     "status": "completed"
    },
    "tags": []
   },
   "outputs": [],
   "source": [
    "def _fetch_checksum(dataframe):\n",
    "    dataframe[\"checksum\"] = dataframe.apply(lambda x:np.mean(tuple(x)),axis=1)\n",
    "    return"
   ]
  },
  {
   "cell_type": "code",
   "execution_count": 7,
   "id": "5142ea17",
   "metadata": {
    "execution": {
     "iopub.execute_input": "2024-09-30T08:12:59.478362Z",
     "iopub.status.busy": "2024-09-30T08:12:59.477294Z",
     "iopub.status.idle": "2024-09-30T08:12:59.484235Z",
     "shell.execute_reply": "2024-09-30T08:12:59.483201Z"
    },
    "papermill": {
     "duration": 0.024203,
     "end_time": "2024-09-30T08:12:59.486731",
     "exception": false,
     "start_time": "2024-09-30T08:12:59.462528",
     "status": "completed"
    },
    "tags": []
   },
   "outputs": [],
   "source": [
    "def draw_tabular_correlogram(dataframe,title=\"\",figsize=(6,5)):\n",
    "    canvas = plt.pyplot.figure(figsize=figsize)\n",
    "    seaborn.heatmap(dataframe.corr(),xticklabels=dataframe.corr().columns,yticklabels=dataframe.corr().columns,cmap=\"viridis_r\",center=0,annot=True)\n",
    "    plt.pyplot.title(title,fontsize=20.0)\n",
    "    canvas.show()"
   ]
  },
  {
   "cell_type": "code",
   "execution_count": 8,
   "id": "757c439c",
   "metadata": {
    "execution": {
     "iopub.execute_input": "2024-09-30T08:12:59.515776Z",
     "iopub.status.busy": "2024-09-30T08:12:59.514727Z",
     "iopub.status.idle": "2024-09-30T08:12:59.522125Z",
     "shell.execute_reply": "2024-09-30T08:12:59.521004Z"
    },
    "papermill": {
     "duration": 0.024616,
     "end_time": "2024-09-30T08:12:59.524703",
     "exception": false,
     "start_time": "2024-09-30T08:12:59.500087",
     "status": "completed"
    },
    "tags": []
   },
   "outputs": [],
   "source": [
    "def draw_tanular_joyplot(dataframe,x=[],y='network',t='',legloc='upper left'):\n",
    "    canvas , pic = joypy.joyplot(dataframe,column=x,by=y,ylim='own',figsize=(12,6),overlap=1)\n",
    "    plt.pyplot.title(t,fontsize=22)\n",
    "    pics[0].legend(nloc=2,loc=legloc)\n",
    "    canvas.tight_layout()\n",
    "    canvas.show()\n",
    "    return"
   ]
  },
  {
   "cell_type": "code",
   "execution_count": 9,
   "id": "30d898ae",
   "metadata": {
    "execution": {
     "iopub.execute_input": "2024-09-30T08:12:59.553244Z",
     "iopub.status.busy": "2024-09-30T08:12:59.552835Z",
     "iopub.status.idle": "2024-09-30T08:12:59.560914Z",
     "shell.execute_reply": "2024-09-30T08:12:59.559760Z"
    },
    "papermill": {
     "duration": 0.02532,
     "end_time": "2024-09-30T08:12:59.563394",
     "exception": false,
     "start_time": "2024-09-30T08:12:59.538074",
     "status": "completed"
    },
    "tags": []
   },
   "outputs": [],
   "source": [
    "def draw_tabular_waffle(dataframe_org,col,title='',legloc='lower center', anchor=(0.5, -0.5)):\n",
    "    dataframe = dataframe_org.groupby(col).size().reset_index(name='counts')\n",
    "    cat = dataframe.shape[0]\n",
    "    colors = [pt.pyplot.cm.nipy_spectral(i/float(cat)) for i in range(cat)]\n",
    "    canvas = matplotlib.pyplot.figure( FigureClass=pywaffle.Waffle,rows=4,values=df['counts'],colors=colors,figsize=(10, 8))\n",
    "    canvas.tight_layout()\n",
    "    canvas.show()\n",
    "    return"
   ]
  },
  {
   "cell_type": "code",
   "execution_count": 10,
   "id": "a2fcf0dc",
   "metadata": {
    "execution": {
     "iopub.execute_input": "2024-09-30T08:12:59.592432Z",
     "iopub.status.busy": "2024-09-30T08:12:59.591963Z",
     "iopub.status.idle": "2024-09-30T08:12:59.601119Z",
     "shell.execute_reply": "2024-09-30T08:12:59.599836Z"
    },
    "papermill": {
     "duration": 0.026886,
     "end_time": "2024-09-30T08:12:59.603717",
     "exception": false,
     "start_time": "2024-09-30T08:12:59.576831",
     "status": "completed"
    },
    "tags": []
   },
   "outputs": [],
   "source": [
    "train_data = train_data.drop([\"Ticket\",'Name'],axis=1)\n",
    "X_train_data = train_data.drop(\"Survived\",axis=1)\n",
    "y_train_data = train_data[\"Survived\"]\n",
    "test_data = test_data.drop([\"Ticket\",'Name'],axis=1)"
   ]
  },
  {
   "cell_type": "markdown",
   "id": "558690d3",
   "metadata": {
    "papermill": {
     "duration": 0.013207,
     "end_time": "2024-09-30T08:12:59.630383",
     "exception": false,
     "start_time": "2024-09-30T08:12:59.617176",
     "status": "completed"
    },
    "tags": []
   },
   "source": [
    "**Imputing:**"
   ]
  },
  {
   "cell_type": "code",
   "execution_count": 11,
   "id": "485bd2b3",
   "metadata": {
    "execution": {
     "iopub.execute_input": "2024-09-30T08:12:59.659440Z",
     "iopub.status.busy": "2024-09-30T08:12:59.658497Z",
     "iopub.status.idle": "2024-09-30T08:12:59.663834Z",
     "shell.execute_reply": "2024-09-30T08:12:59.662803Z"
    },
    "papermill": {
     "duration": 0.022312,
     "end_time": "2024-09-30T08:12:59.666053",
     "exception": false,
     "start_time": "2024-09-30T08:12:59.643741",
     "status": "completed"
    },
    "tags": []
   },
   "outputs": [],
   "source": [
    "imputer = SimpleImputer(strategy=\"most_frequent\")"
   ]
  },
  {
   "cell_type": "code",
   "execution_count": 12,
   "id": "49cc5def",
   "metadata": {
    "execution": {
     "iopub.execute_input": "2024-09-30T08:12:59.694705Z",
     "iopub.status.busy": "2024-09-30T08:12:59.694256Z",
     "iopub.status.idle": "2024-09-30T08:12:59.712708Z",
     "shell.execute_reply": "2024-09-30T08:12:59.711636Z"
    },
    "papermill": {
     "duration": 0.035708,
     "end_time": "2024-09-30T08:12:59.715167",
     "exception": false,
     "start_time": "2024-09-30T08:12:59.679459",
     "status": "completed"
    },
    "tags": []
   },
   "outputs": [
    {
     "data": {
      "text/html": [
       "<style>#sk-container-id-1 {color: black;background-color: white;}#sk-container-id-1 pre{padding: 0;}#sk-container-id-1 div.sk-toggleable {background-color: white;}#sk-container-id-1 label.sk-toggleable__label {cursor: pointer;display: block;width: 100%;margin-bottom: 0;padding: 0.3em;box-sizing: border-box;text-align: center;}#sk-container-id-1 label.sk-toggleable__label-arrow:before {content: \"▸\";float: left;margin-right: 0.25em;color: #696969;}#sk-container-id-1 label.sk-toggleable__label-arrow:hover:before {color: black;}#sk-container-id-1 div.sk-estimator:hover label.sk-toggleable__label-arrow:before {color: black;}#sk-container-id-1 div.sk-toggleable__content {max-height: 0;max-width: 0;overflow: hidden;text-align: left;background-color: #f0f8ff;}#sk-container-id-1 div.sk-toggleable__content pre {margin: 0.2em;color: black;border-radius: 0.25em;background-color: #f0f8ff;}#sk-container-id-1 input.sk-toggleable__control:checked~div.sk-toggleable__content {max-height: 200px;max-width: 100%;overflow: auto;}#sk-container-id-1 input.sk-toggleable__control:checked~label.sk-toggleable__label-arrow:before {content: \"▾\";}#sk-container-id-1 div.sk-estimator input.sk-toggleable__control:checked~label.sk-toggleable__label {background-color: #d4ebff;}#sk-container-id-1 div.sk-label input.sk-toggleable__control:checked~label.sk-toggleable__label {background-color: #d4ebff;}#sk-container-id-1 input.sk-hidden--visually {border: 0;clip: rect(1px 1px 1px 1px);clip: rect(1px, 1px, 1px, 1px);height: 1px;margin: -1px;overflow: hidden;padding: 0;position: absolute;width: 1px;}#sk-container-id-1 div.sk-estimator {font-family: monospace;background-color: #f0f8ff;border: 1px dotted black;border-radius: 0.25em;box-sizing: border-box;margin-bottom: 0.5em;}#sk-container-id-1 div.sk-estimator:hover {background-color: #d4ebff;}#sk-container-id-1 div.sk-parallel-item::after {content: \"\";width: 100%;border-bottom: 1px solid gray;flex-grow: 1;}#sk-container-id-1 div.sk-label:hover label.sk-toggleable__label {background-color: #d4ebff;}#sk-container-id-1 div.sk-serial::before {content: \"\";position: absolute;border-left: 1px solid gray;box-sizing: border-box;top: 0;bottom: 0;left: 50%;z-index: 0;}#sk-container-id-1 div.sk-serial {display: flex;flex-direction: column;align-items: center;background-color: white;padding-right: 0.2em;padding-left: 0.2em;position: relative;}#sk-container-id-1 div.sk-item {position: relative;z-index: 1;}#sk-container-id-1 div.sk-parallel {display: flex;align-items: stretch;justify-content: center;background-color: white;position: relative;}#sk-container-id-1 div.sk-item::before, #sk-container-id-1 div.sk-parallel-item::before {content: \"\";position: absolute;border-left: 1px solid gray;box-sizing: border-box;top: 0;bottom: 0;left: 50%;z-index: -1;}#sk-container-id-1 div.sk-parallel-item {display: flex;flex-direction: column;z-index: 1;position: relative;background-color: white;}#sk-container-id-1 div.sk-parallel-item:first-child::after {align-self: flex-end;width: 50%;}#sk-container-id-1 div.sk-parallel-item:last-child::after {align-self: flex-start;width: 50%;}#sk-container-id-1 div.sk-parallel-item:only-child::after {width: 0;}#sk-container-id-1 div.sk-dashed-wrapped {border: 1px dashed gray;margin: 0 0.4em 0.5em 0.4em;box-sizing: border-box;padding-bottom: 0.4em;background-color: white;}#sk-container-id-1 div.sk-label label {font-family: monospace;font-weight: bold;display: inline-block;line-height: 1.2em;}#sk-container-id-1 div.sk-label-container {text-align: center;}#sk-container-id-1 div.sk-container {/* jupyter's `normalize.less` sets `[hidden] { display: none; }` but bootstrap.min.css set `[hidden] { display: none !important; }` so we also need the `!important` here to be able to override the default hidden behavior on the sphinx rendered scikit-learn.org. See: https://github.com/scikit-learn/scikit-learn/issues/21755 */display: inline-block !important;position: relative;}#sk-container-id-1 div.sk-text-repr-fallback {display: none;}</style><div id=\"sk-container-id-1\" class=\"sk-top-container\"><div class=\"sk-text-repr-fallback\"><pre>SimpleImputer(strategy=&#x27;most_frequent&#x27;)</pre><b>In a Jupyter environment, please rerun this cell to show the HTML representation or trust the notebook. <br />On GitHub, the HTML representation is unable to render, please try loading this page with nbviewer.org.</b></div><div class=\"sk-container\" hidden><div class=\"sk-item\"><div class=\"sk-estimator sk-toggleable\"><input class=\"sk-toggleable__control sk-hidden--visually\" id=\"sk-estimator-id-1\" type=\"checkbox\" checked><label for=\"sk-estimator-id-1\" class=\"sk-toggleable__label sk-toggleable__label-arrow\">SimpleImputer</label><div class=\"sk-toggleable__content\"><pre>SimpleImputer(strategy=&#x27;most_frequent&#x27;)</pre></div></div></div></div></div>"
      ],
      "text/plain": [
       "SimpleImputer(strategy='most_frequent')"
      ]
     },
     "execution_count": 12,
     "metadata": {},
     "output_type": "execute_result"
    }
   ],
   "source": [
    "imputer.fit(pd.concat([X_train_data,test_data]))"
   ]
  },
  {
   "cell_type": "code",
   "execution_count": 13,
   "id": "dfc790b5",
   "metadata": {
    "execution": {
     "iopub.execute_input": "2024-09-30T08:12:59.744740Z",
     "iopub.status.busy": "2024-09-30T08:12:59.744047Z",
     "iopub.status.idle": "2024-09-30T08:12:59.749245Z",
     "shell.execute_reply": "2024-09-30T08:12:59.748113Z"
    },
    "papermill": {
     "duration": 0.022722,
     "end_time": "2024-09-30T08:12:59.751640",
     "exception": false,
     "start_time": "2024-09-30T08:12:59.728918",
     "status": "completed"
    },
    "tags": []
   },
   "outputs": [],
   "source": [
    "c = X_train_data.columns\n",
    "i_train = X_train_data.index\n",
    "i_test = test_data.index"
   ]
  },
  {
   "cell_type": "code",
   "execution_count": 14,
   "id": "6ef1a2fd",
   "metadata": {
    "execution": {
     "iopub.execute_input": "2024-09-30T08:12:59.780978Z",
     "iopub.status.busy": "2024-09-30T08:12:59.780059Z",
     "iopub.status.idle": "2024-09-30T08:12:59.789784Z",
     "shell.execute_reply": "2024-09-30T08:12:59.788681Z"
    },
    "papermill": {
     "duration": 0.027105,
     "end_time": "2024-09-30T08:12:59.792225",
     "exception": false,
     "start_time": "2024-09-30T08:12:59.765120",
     "status": "completed"
    },
    "tags": []
   },
   "outputs": [],
   "source": [
    "X_train_data = pd.DataFrame(imputer.transform(X_train_data),columns = c,index = i_train)"
   ]
  },
  {
   "cell_type": "code",
   "execution_count": 15,
   "id": "0f9322c2",
   "metadata": {
    "execution": {
     "iopub.execute_input": "2024-09-30T08:12:59.821602Z",
     "iopub.status.busy": "2024-09-30T08:12:59.820744Z",
     "iopub.status.idle": "2024-09-30T08:12:59.829226Z",
     "shell.execute_reply": "2024-09-30T08:12:59.828244Z"
    },
    "papermill": {
     "duration": 0.025766,
     "end_time": "2024-09-30T08:12:59.831602",
     "exception": false,
     "start_time": "2024-09-30T08:12:59.805836",
     "status": "completed"
    },
    "tags": []
   },
   "outputs": [],
   "source": [
    "test_data = pd.DataFrame(imputer.transform(test_data),columns = c,index=i_test)"
   ]
  },
  {
   "cell_type": "markdown",
   "id": "49c385a0",
   "metadata": {
    "papermill": {
     "duration": 0.014192,
     "end_time": "2024-09-30T08:12:59.859435",
     "exception": false,
     "start_time": "2024-09-30T08:12:59.845243",
     "status": "completed"
    },
    "tags": []
   },
   "source": [
    "**One-hot encoding:**"
   ]
  },
  {
   "cell_type": "code",
   "execution_count": 16,
   "id": "d03a48aa",
   "metadata": {
    "execution": {
     "iopub.execute_input": "2024-09-30T08:12:59.890189Z",
     "iopub.status.busy": "2024-09-30T08:12:59.889025Z",
     "iopub.status.idle": "2024-09-30T08:12:59.896357Z",
     "shell.execute_reply": "2024-09-30T08:12:59.895231Z"
    },
    "papermill": {
     "duration": 0.025488,
     "end_time": "2024-09-30T08:12:59.898732",
     "exception": false,
     "start_time": "2024-09-30T08:12:59.873244",
     "status": "completed"
    },
    "tags": []
   },
   "outputs": [],
   "source": [
    "def OneHotE(dataframe,cat_col,cat_encoder):\n",
    "    dataframe_num = dataframe.drop(cat_col,axis=1)\n",
    "    dataframe_cat = dataframe[cat_col]\n",
    "    dataframe_cat = cat_encoder.transform(dataframe_cat)\n",
    "    dataframe_cat = pd.DataFrame(dataframe_cat.toarray(),columns=cat_encoder.get_feature_names_out(),index=dataframe.index)\n",
    "    dataframe = pd.concat([dataframe_num,dataframe_cat],axis=1)    \n",
    "    return dataframe"
   ]
  },
  {
   "cell_type": "code",
   "execution_count": 17,
   "id": "60b82b8f",
   "metadata": {
    "execution": {
     "iopub.execute_input": "2024-09-30T08:12:59.928282Z",
     "iopub.status.busy": "2024-09-30T08:12:59.927829Z",
     "iopub.status.idle": "2024-09-30T08:12:59.932855Z",
     "shell.execute_reply": "2024-09-30T08:12:59.931766Z"
    },
    "papermill": {
     "duration": 0.022335,
     "end_time": "2024-09-30T08:12:59.935187",
     "exception": false,
     "start_time": "2024-09-30T08:12:59.912852",
     "status": "completed"
    },
    "tags": []
   },
   "outputs": [],
   "source": [
    "str_cat = ['Sex','Cabin','Embarked']"
   ]
  },
  {
   "cell_type": "code",
   "execution_count": 18,
   "id": "a0f10fc5",
   "metadata": {
    "execution": {
     "iopub.execute_input": "2024-09-30T08:12:59.965213Z",
     "iopub.status.busy": "2024-09-30T08:12:59.964280Z",
     "iopub.status.idle": "2024-09-30T08:12:59.969558Z",
     "shell.execute_reply": "2024-09-30T08:12:59.968413Z"
    },
    "papermill": {
     "duration": 0.022563,
     "end_time": "2024-09-30T08:12:59.971820",
     "exception": false,
     "start_time": "2024-09-30T08:12:59.949257",
     "status": "completed"
    },
    "tags": []
   },
   "outputs": [],
   "source": [
    "cat_encoder = OneHotEncoder()"
   ]
  },
  {
   "cell_type": "code",
   "execution_count": 19,
   "id": "02f291fa",
   "metadata": {
    "execution": {
     "iopub.execute_input": "2024-09-30T08:13:00.000864Z",
     "iopub.status.busy": "2024-09-30T08:13:00.000392Z",
     "iopub.status.idle": "2024-09-30T08:13:00.012815Z",
     "shell.execute_reply": "2024-09-30T08:13:00.011728Z"
    },
    "papermill": {
     "duration": 0.03018,
     "end_time": "2024-09-30T08:13:00.015418",
     "exception": false,
     "start_time": "2024-09-30T08:12:59.985238",
     "status": "completed"
    },
    "tags": []
   },
   "outputs": [
    {
     "data": {
      "text/html": [
       "<style>#sk-container-id-2 {color: black;background-color: white;}#sk-container-id-2 pre{padding: 0;}#sk-container-id-2 div.sk-toggleable {background-color: white;}#sk-container-id-2 label.sk-toggleable__label {cursor: pointer;display: block;width: 100%;margin-bottom: 0;padding: 0.3em;box-sizing: border-box;text-align: center;}#sk-container-id-2 label.sk-toggleable__label-arrow:before {content: \"▸\";float: left;margin-right: 0.25em;color: #696969;}#sk-container-id-2 label.sk-toggleable__label-arrow:hover:before {color: black;}#sk-container-id-2 div.sk-estimator:hover label.sk-toggleable__label-arrow:before {color: black;}#sk-container-id-2 div.sk-toggleable__content {max-height: 0;max-width: 0;overflow: hidden;text-align: left;background-color: #f0f8ff;}#sk-container-id-2 div.sk-toggleable__content pre {margin: 0.2em;color: black;border-radius: 0.25em;background-color: #f0f8ff;}#sk-container-id-2 input.sk-toggleable__control:checked~div.sk-toggleable__content {max-height: 200px;max-width: 100%;overflow: auto;}#sk-container-id-2 input.sk-toggleable__control:checked~label.sk-toggleable__label-arrow:before {content: \"▾\";}#sk-container-id-2 div.sk-estimator input.sk-toggleable__control:checked~label.sk-toggleable__label {background-color: #d4ebff;}#sk-container-id-2 div.sk-label input.sk-toggleable__control:checked~label.sk-toggleable__label {background-color: #d4ebff;}#sk-container-id-2 input.sk-hidden--visually {border: 0;clip: rect(1px 1px 1px 1px);clip: rect(1px, 1px, 1px, 1px);height: 1px;margin: -1px;overflow: hidden;padding: 0;position: absolute;width: 1px;}#sk-container-id-2 div.sk-estimator {font-family: monospace;background-color: #f0f8ff;border: 1px dotted black;border-radius: 0.25em;box-sizing: border-box;margin-bottom: 0.5em;}#sk-container-id-2 div.sk-estimator:hover {background-color: #d4ebff;}#sk-container-id-2 div.sk-parallel-item::after {content: \"\";width: 100%;border-bottom: 1px solid gray;flex-grow: 1;}#sk-container-id-2 div.sk-label:hover label.sk-toggleable__label {background-color: #d4ebff;}#sk-container-id-2 div.sk-serial::before {content: \"\";position: absolute;border-left: 1px solid gray;box-sizing: border-box;top: 0;bottom: 0;left: 50%;z-index: 0;}#sk-container-id-2 div.sk-serial {display: flex;flex-direction: column;align-items: center;background-color: white;padding-right: 0.2em;padding-left: 0.2em;position: relative;}#sk-container-id-2 div.sk-item {position: relative;z-index: 1;}#sk-container-id-2 div.sk-parallel {display: flex;align-items: stretch;justify-content: center;background-color: white;position: relative;}#sk-container-id-2 div.sk-item::before, #sk-container-id-2 div.sk-parallel-item::before {content: \"\";position: absolute;border-left: 1px solid gray;box-sizing: border-box;top: 0;bottom: 0;left: 50%;z-index: -1;}#sk-container-id-2 div.sk-parallel-item {display: flex;flex-direction: column;z-index: 1;position: relative;background-color: white;}#sk-container-id-2 div.sk-parallel-item:first-child::after {align-self: flex-end;width: 50%;}#sk-container-id-2 div.sk-parallel-item:last-child::after {align-self: flex-start;width: 50%;}#sk-container-id-2 div.sk-parallel-item:only-child::after {width: 0;}#sk-container-id-2 div.sk-dashed-wrapped {border: 1px dashed gray;margin: 0 0.4em 0.5em 0.4em;box-sizing: border-box;padding-bottom: 0.4em;background-color: white;}#sk-container-id-2 div.sk-label label {font-family: monospace;font-weight: bold;display: inline-block;line-height: 1.2em;}#sk-container-id-2 div.sk-label-container {text-align: center;}#sk-container-id-2 div.sk-container {/* jupyter's `normalize.less` sets `[hidden] { display: none; }` but bootstrap.min.css set `[hidden] { display: none !important; }` so we also need the `!important` here to be able to override the default hidden behavior on the sphinx rendered scikit-learn.org. See: https://github.com/scikit-learn/scikit-learn/issues/21755 */display: inline-block !important;position: relative;}#sk-container-id-2 div.sk-text-repr-fallback {display: none;}</style><div id=\"sk-container-id-2\" class=\"sk-top-container\"><div class=\"sk-text-repr-fallback\"><pre>OneHotEncoder()</pre><b>In a Jupyter environment, please rerun this cell to show the HTML representation or trust the notebook. <br />On GitHub, the HTML representation is unable to render, please try loading this page with nbviewer.org.</b></div><div class=\"sk-container\" hidden><div class=\"sk-item\"><div class=\"sk-estimator sk-toggleable\"><input class=\"sk-toggleable__control sk-hidden--visually\" id=\"sk-estimator-id-2\" type=\"checkbox\" checked><label for=\"sk-estimator-id-2\" class=\"sk-toggleable__label sk-toggleable__label-arrow\">OneHotEncoder</label><div class=\"sk-toggleable__content\"><pre>OneHotEncoder()</pre></div></div></div></div></div>"
      ],
      "text/plain": [
       "OneHotEncoder()"
      ]
     },
     "execution_count": 19,
     "metadata": {},
     "output_type": "execute_result"
    }
   ],
   "source": [
    "cat_encoder.fit(pd.concat([X_train_data[str_cat],test_data[str_cat]]))"
   ]
  },
  {
   "cell_type": "code",
   "execution_count": 20,
   "id": "db801936",
   "metadata": {
    "execution": {
     "iopub.execute_input": "2024-09-30T08:13:00.045424Z",
     "iopub.status.busy": "2024-09-30T08:13:00.044367Z",
     "iopub.status.idle": "2024-09-30T08:13:00.067521Z",
     "shell.execute_reply": "2024-09-30T08:13:00.066257Z"
    },
    "papermill": {
     "duration": 0.041332,
     "end_time": "2024-09-30T08:13:00.070490",
     "exception": false,
     "start_time": "2024-09-30T08:13:00.029158",
     "status": "completed"
    },
    "tags": []
   },
   "outputs": [],
   "source": [
    "X_train_data = OneHotE(X_train_data,str_cat,cat_encoder)\n",
    "test_data = OneHotE(test_data,str_cat,cat_encoder)"
   ]
  },
  {
   "cell_type": "markdown",
   "id": "d92aa4d0",
   "metadata": {
    "papermill": {
     "duration": 0.013569,
     "end_time": "2024-09-30T08:13:00.097950",
     "exception": false,
     "start_time": "2024-09-30T08:13:00.084381",
     "status": "completed"
    },
    "tags": []
   },
   "source": [
    "**Training a model:**"
   ]
  },
  {
   "cell_type": "code",
   "execution_count": 21,
   "id": "00530946",
   "metadata": {
    "execution": {
     "iopub.execute_input": "2024-09-30T08:13:00.127868Z",
     "iopub.status.busy": "2024-09-30T08:13:00.126981Z",
     "iopub.status.idle": "2024-09-30T08:13:00.132549Z",
     "shell.execute_reply": "2024-09-30T08:13:00.131473Z"
    },
    "papermill": {
     "duration": 0.023112,
     "end_time": "2024-09-30T08:13:00.134859",
     "exception": false,
     "start_time": "2024-09-30T08:13:00.111747",
     "status": "completed"
    },
    "tags": []
   },
   "outputs": [],
   "source": [
    "pipeline = Pipeline([(\"classifier\",RandomForestClassifier(random_state=42))])"
   ]
  },
  {
   "cell_type": "code",
   "execution_count": 22,
   "id": "c2ad3b44",
   "metadata": {
    "execution": {
     "iopub.execute_input": "2024-09-30T08:13:00.164682Z",
     "iopub.status.busy": "2024-09-30T08:13:00.163945Z",
     "iopub.status.idle": "2024-09-30T08:13:00.169738Z",
     "shell.execute_reply": "2024-09-30T08:13:00.168564Z"
    },
    "papermill": {
     "duration": 0.023605,
     "end_time": "2024-09-30T08:13:00.172264",
     "exception": false,
     "start_time": "2024-09-30T08:13:00.148659",
     "status": "completed"
    },
    "tags": []
   },
   "outputs": [],
   "source": [
    "param_grid = [{\"classifier__n_estimators\":[80,90,100,120],\"classifier__criterion\":[\"gini\",\"entropy\",\"log_loss\"]}] "
   ]
  },
  {
   "cell_type": "code",
   "execution_count": 23,
   "id": "071246db",
   "metadata": {
    "execution": {
     "iopub.execute_input": "2024-09-30T08:13:00.202669Z",
     "iopub.status.busy": "2024-09-30T08:13:00.201808Z",
     "iopub.status.idle": "2024-09-30T08:13:00.207254Z",
     "shell.execute_reply": "2024-09-30T08:13:00.206179Z"
    },
    "papermill": {
     "duration": 0.02319,
     "end_time": "2024-09-30T08:13:00.209607",
     "exception": false,
     "start_time": "2024-09-30T08:13:00.186417",
     "status": "completed"
    },
    "tags": []
   },
   "outputs": [],
   "source": [
    "grid_search = GridSearchCV(pipeline,param_grid,cv=3,scoring=\"accuracy\")"
   ]
  },
  {
   "cell_type": "code",
   "execution_count": 24,
   "id": "da58c249",
   "metadata": {
    "execution": {
     "iopub.execute_input": "2024-09-30T08:13:00.239734Z",
     "iopub.status.busy": "2024-09-30T08:13:00.238870Z",
     "iopub.status.idle": "2024-09-30T08:13:12.757354Z",
     "shell.execute_reply": "2024-09-30T08:13:12.756125Z"
    },
    "papermill": {
     "duration": 12.536536,
     "end_time": "2024-09-30T08:13:12.760093",
     "exception": false,
     "start_time": "2024-09-30T08:13:00.223557",
     "status": "completed"
    },
    "tags": []
   },
   "outputs": [
    {
     "data": {
      "text/html": [
       "<style>#sk-container-id-3 {color: black;background-color: white;}#sk-container-id-3 pre{padding: 0;}#sk-container-id-3 div.sk-toggleable {background-color: white;}#sk-container-id-3 label.sk-toggleable__label {cursor: pointer;display: block;width: 100%;margin-bottom: 0;padding: 0.3em;box-sizing: border-box;text-align: center;}#sk-container-id-3 label.sk-toggleable__label-arrow:before {content: \"▸\";float: left;margin-right: 0.25em;color: #696969;}#sk-container-id-3 label.sk-toggleable__label-arrow:hover:before {color: black;}#sk-container-id-3 div.sk-estimator:hover label.sk-toggleable__label-arrow:before {color: black;}#sk-container-id-3 div.sk-toggleable__content {max-height: 0;max-width: 0;overflow: hidden;text-align: left;background-color: #f0f8ff;}#sk-container-id-3 div.sk-toggleable__content pre {margin: 0.2em;color: black;border-radius: 0.25em;background-color: #f0f8ff;}#sk-container-id-3 input.sk-toggleable__control:checked~div.sk-toggleable__content {max-height: 200px;max-width: 100%;overflow: auto;}#sk-container-id-3 input.sk-toggleable__control:checked~label.sk-toggleable__label-arrow:before {content: \"▾\";}#sk-container-id-3 div.sk-estimator input.sk-toggleable__control:checked~label.sk-toggleable__label {background-color: #d4ebff;}#sk-container-id-3 div.sk-label input.sk-toggleable__control:checked~label.sk-toggleable__label {background-color: #d4ebff;}#sk-container-id-3 input.sk-hidden--visually {border: 0;clip: rect(1px 1px 1px 1px);clip: rect(1px, 1px, 1px, 1px);height: 1px;margin: -1px;overflow: hidden;padding: 0;position: absolute;width: 1px;}#sk-container-id-3 div.sk-estimator {font-family: monospace;background-color: #f0f8ff;border: 1px dotted black;border-radius: 0.25em;box-sizing: border-box;margin-bottom: 0.5em;}#sk-container-id-3 div.sk-estimator:hover {background-color: #d4ebff;}#sk-container-id-3 div.sk-parallel-item::after {content: \"\";width: 100%;border-bottom: 1px solid gray;flex-grow: 1;}#sk-container-id-3 div.sk-label:hover label.sk-toggleable__label {background-color: #d4ebff;}#sk-container-id-3 div.sk-serial::before {content: \"\";position: absolute;border-left: 1px solid gray;box-sizing: border-box;top: 0;bottom: 0;left: 50%;z-index: 0;}#sk-container-id-3 div.sk-serial {display: flex;flex-direction: column;align-items: center;background-color: white;padding-right: 0.2em;padding-left: 0.2em;position: relative;}#sk-container-id-3 div.sk-item {position: relative;z-index: 1;}#sk-container-id-3 div.sk-parallel {display: flex;align-items: stretch;justify-content: center;background-color: white;position: relative;}#sk-container-id-3 div.sk-item::before, #sk-container-id-3 div.sk-parallel-item::before {content: \"\";position: absolute;border-left: 1px solid gray;box-sizing: border-box;top: 0;bottom: 0;left: 50%;z-index: -1;}#sk-container-id-3 div.sk-parallel-item {display: flex;flex-direction: column;z-index: 1;position: relative;background-color: white;}#sk-container-id-3 div.sk-parallel-item:first-child::after {align-self: flex-end;width: 50%;}#sk-container-id-3 div.sk-parallel-item:last-child::after {align-self: flex-start;width: 50%;}#sk-container-id-3 div.sk-parallel-item:only-child::after {width: 0;}#sk-container-id-3 div.sk-dashed-wrapped {border: 1px dashed gray;margin: 0 0.4em 0.5em 0.4em;box-sizing: border-box;padding-bottom: 0.4em;background-color: white;}#sk-container-id-3 div.sk-label label {font-family: monospace;font-weight: bold;display: inline-block;line-height: 1.2em;}#sk-container-id-3 div.sk-label-container {text-align: center;}#sk-container-id-3 div.sk-container {/* jupyter's `normalize.less` sets `[hidden] { display: none; }` but bootstrap.min.css set `[hidden] { display: none !important; }` so we also need the `!important` here to be able to override the default hidden behavior on the sphinx rendered scikit-learn.org. See: https://github.com/scikit-learn/scikit-learn/issues/21755 */display: inline-block !important;position: relative;}#sk-container-id-3 div.sk-text-repr-fallback {display: none;}</style><div id=\"sk-container-id-3\" class=\"sk-top-container\"><div class=\"sk-text-repr-fallback\"><pre>GridSearchCV(cv=3,\n",
       "             estimator=Pipeline(steps=[(&#x27;classifier&#x27;,\n",
       "                                        RandomForestClassifier(random_state=42))]),\n",
       "             param_grid=[{&#x27;classifier__criterion&#x27;: [&#x27;gini&#x27;, &#x27;entropy&#x27;,\n",
       "                                                    &#x27;log_loss&#x27;],\n",
       "                          &#x27;classifier__n_estimators&#x27;: [80, 90, 100, 120]}],\n",
       "             scoring=&#x27;accuracy&#x27;)</pre><b>In a Jupyter environment, please rerun this cell to show the HTML representation or trust the notebook. <br />On GitHub, the HTML representation is unable to render, please try loading this page with nbviewer.org.</b></div><div class=\"sk-container\" hidden><div class=\"sk-item sk-dashed-wrapped\"><div class=\"sk-label-container\"><div class=\"sk-label sk-toggleable\"><input class=\"sk-toggleable__control sk-hidden--visually\" id=\"sk-estimator-id-3\" type=\"checkbox\" ><label for=\"sk-estimator-id-3\" class=\"sk-toggleable__label sk-toggleable__label-arrow\">GridSearchCV</label><div class=\"sk-toggleable__content\"><pre>GridSearchCV(cv=3,\n",
       "             estimator=Pipeline(steps=[(&#x27;classifier&#x27;,\n",
       "                                        RandomForestClassifier(random_state=42))]),\n",
       "             param_grid=[{&#x27;classifier__criterion&#x27;: [&#x27;gini&#x27;, &#x27;entropy&#x27;,\n",
       "                                                    &#x27;log_loss&#x27;],\n",
       "                          &#x27;classifier__n_estimators&#x27;: [80, 90, 100, 120]}],\n",
       "             scoring=&#x27;accuracy&#x27;)</pre></div></div></div><div class=\"sk-parallel\"><div class=\"sk-parallel-item\"><div class=\"sk-item\"><div class=\"sk-label-container\"><div class=\"sk-label sk-toggleable\"><input class=\"sk-toggleable__control sk-hidden--visually\" id=\"sk-estimator-id-4\" type=\"checkbox\" ><label for=\"sk-estimator-id-4\" class=\"sk-toggleable__label sk-toggleable__label-arrow\">estimator: Pipeline</label><div class=\"sk-toggleable__content\"><pre>Pipeline(steps=[(&#x27;classifier&#x27;, RandomForestClassifier(random_state=42))])</pre></div></div></div><div class=\"sk-serial\"><div class=\"sk-item\"><div class=\"sk-serial\"><div class=\"sk-item\"><div class=\"sk-estimator sk-toggleable\"><input class=\"sk-toggleable__control sk-hidden--visually\" id=\"sk-estimator-id-5\" type=\"checkbox\" ><label for=\"sk-estimator-id-5\" class=\"sk-toggleable__label sk-toggleable__label-arrow\">RandomForestClassifier</label><div class=\"sk-toggleable__content\"><pre>RandomForestClassifier(random_state=42)</pre></div></div></div></div></div></div></div></div></div></div></div></div>"
      ],
      "text/plain": [
       "GridSearchCV(cv=3,\n",
       "             estimator=Pipeline(steps=[('classifier',\n",
       "                                        RandomForestClassifier(random_state=42))]),\n",
       "             param_grid=[{'classifier__criterion': ['gini', 'entropy',\n",
       "                                                    'log_loss'],\n",
       "                          'classifier__n_estimators': [80, 90, 100, 120]}],\n",
       "             scoring='accuracy')"
      ]
     },
     "execution_count": 24,
     "metadata": {},
     "output_type": "execute_result"
    }
   ],
   "source": [
    "grid_search.fit(X_train_data,y_train_data.astype('int'))"
   ]
  },
  {
   "cell_type": "code",
   "execution_count": 25,
   "id": "4fc0a842",
   "metadata": {
    "execution": {
     "iopub.execute_input": "2024-09-30T08:13:12.790249Z",
     "iopub.status.busy": "2024-09-30T08:13:12.789763Z",
     "iopub.status.idle": "2024-09-30T08:13:12.797439Z",
     "shell.execute_reply": "2024-09-30T08:13:12.796275Z"
    },
    "papermill": {
     "duration": 0.025752,
     "end_time": "2024-09-30T08:13:12.799955",
     "exception": false,
     "start_time": "2024-09-30T08:13:12.774203",
     "status": "completed"
    },
    "tags": []
   },
   "outputs": [
    {
     "data": {
      "text/plain": [
       "{'classifier__criterion': 'gini', 'classifier__n_estimators': 80}"
      ]
     },
     "execution_count": 25,
     "metadata": {},
     "output_type": "execute_result"
    }
   ],
   "source": [
    "grid_search.best_params_\n"
   ]
  },
  {
   "cell_type": "code",
   "execution_count": 26,
   "id": "ffce78cb",
   "metadata": {
    "execution": {
     "iopub.execute_input": "2024-09-30T08:13:12.830845Z",
     "iopub.status.busy": "2024-09-30T08:13:12.829863Z",
     "iopub.status.idle": "2024-09-30T08:13:12.834805Z",
     "shell.execute_reply": "2024-09-30T08:13:12.833780Z"
    },
    "papermill": {
     "duration": 0.023016,
     "end_time": "2024-09-30T08:13:12.837215",
     "exception": false,
     "start_time": "2024-09-30T08:13:12.814199",
     "status": "completed"
    },
    "tags": []
   },
   "outputs": [],
   "source": [
    "scaler = StandardScaler()"
   ]
  },
  {
   "cell_type": "code",
   "execution_count": 27,
   "id": "f3ba4b0e",
   "metadata": {
    "execution": {
     "iopub.execute_input": "2024-09-30T08:13:12.868191Z",
     "iopub.status.busy": "2024-09-30T08:13:12.867202Z",
     "iopub.status.idle": "2024-09-30T08:13:13.051722Z",
     "shell.execute_reply": "2024-09-30T08:13:13.050693Z"
    },
    "papermill": {
     "duration": 0.204191,
     "end_time": "2024-09-30T08:13:13.055595",
     "exception": false,
     "start_time": "2024-09-30T08:13:12.851404",
     "status": "completed"
    },
    "tags": []
   },
   "outputs": [
    {
     "name": "stdout",
     "output_type": "stream",
     "text": [
      "Pclass\n",
      "Age\n",
      "SibSp\n",
      "Parch\n",
      "Fare\n",
      "Sex_female\n",
      "Sex_male\n",
      "Cabin_A10\n",
      "Cabin_A11\n",
      "Cabin_A14\n",
      "Cabin_A16\n",
      "Cabin_A18\n",
      "Cabin_A19\n",
      "Cabin_A20\n",
      "Cabin_A21\n",
      "Cabin_A23\n",
      "Cabin_A24\n",
      "Cabin_A26\n",
      "Cabin_A29\n",
      "Cabin_A31\n",
      "Cabin_A32\n",
      "Cabin_A34\n",
      "Cabin_A36\n",
      "Cabin_A5\n",
      "Cabin_A6\n",
      "Cabin_A7\n",
      "Cabin_A9\n",
      "Cabin_B10\n",
      "Cabin_B101\n",
      "Cabin_B102\n",
      "Cabin_B11\n",
      "Cabin_B18\n",
      "Cabin_B19\n",
      "Cabin_B20\n",
      "Cabin_B22\n",
      "Cabin_B24\n",
      "Cabin_B26\n",
      "Cabin_B28\n",
      "Cabin_B3\n",
      "Cabin_B30\n",
      "Cabin_B35\n",
      "Cabin_B36\n",
      "Cabin_B37\n",
      "Cabin_B38\n",
      "Cabin_B39\n",
      "Cabin_B4\n",
      "Cabin_B41\n",
      "Cabin_B42\n",
      "Cabin_B45\n",
      "Cabin_B49\n",
      "Cabin_B5\n",
      "Cabin_B50\n",
      "Cabin_B51 B53 B55\n",
      "Cabin_B52 B54 B56\n",
      "Cabin_B57 B59 B63 B66\n",
      "Cabin_B58 B60\n",
      "Cabin_B61\n",
      "Cabin_B69\n",
      "Cabin_B71\n",
      "Cabin_B73\n",
      "Cabin_B77\n",
      "Cabin_B78\n",
      "Cabin_B79\n",
      "Cabin_B80\n",
      "Cabin_B82 B84\n",
      "Cabin_B86\n",
      "Cabin_B94\n",
      "Cabin_B96 B98\n",
      "Cabin_C101\n",
      "Cabin_C103\n",
      "Cabin_C104\n",
      "Cabin_C105\n",
      "Cabin_C106\n",
      "Cabin_C110\n",
      "Cabin_C111\n",
      "Cabin_C116\n",
      "Cabin_C118\n",
      "Cabin_C123\n",
      "Cabin_C124\n",
      "Cabin_C125\n",
      "Cabin_C126\n",
      "Cabin_C128\n",
      "Cabin_C130\n",
      "Cabin_C132\n",
      "Cabin_C148\n",
      "Cabin_C2\n",
      "Cabin_C22 C26\n",
      "Cabin_C23 C25 C27\n",
      "Cabin_C28\n",
      "Cabin_C30\n",
      "Cabin_C31\n",
      "Cabin_C32\n",
      "Cabin_C39\n",
      "Cabin_C45\n",
      "Cabin_C46\n",
      "Cabin_C47\n",
      "Cabin_C49\n",
      "Cabin_C50\n",
      "Cabin_C51\n",
      "Cabin_C52\n",
      "Cabin_C53\n",
      "Cabin_C54\n",
      "Cabin_C55 C57\n",
      "Cabin_C6\n",
      "Cabin_C62 C64\n",
      "Cabin_C65\n",
      "Cabin_C68\n",
      "Cabin_C7\n",
      "Cabin_C70\n",
      "Cabin_C78\n",
      "Cabin_C80\n",
      "Cabin_C82\n",
      "Cabin_C83\n",
      "Cabin_C85\n",
      "Cabin_C86\n",
      "Cabin_C87\n",
      "Cabin_C89\n",
      "Cabin_C90\n",
      "Cabin_C91\n",
      "Cabin_C92\n",
      "Cabin_C93\n",
      "Cabin_C95\n",
      "Cabin_C97\n",
      "Cabin_C99\n",
      "Cabin_D\n",
      "Cabin_D10 D12\n",
      "Cabin_D11\n",
      "Cabin_D15\n",
      "Cabin_D17\n",
      "Cabin_D19\n",
      "Cabin_D20\n",
      "Cabin_D21\n",
      "Cabin_D22\n",
      "Cabin_D26\n",
      "Cabin_D28\n",
      "Cabin_D30\n",
      "Cabin_D33\n",
      "Cabin_D34\n",
      "Cabin_D35\n",
      "Cabin_D36\n",
      "Cabin_D37\n",
      "Cabin_D38\n",
      "Cabin_D40\n",
      "Cabin_D43\n",
      "Cabin_D45\n",
      "Cabin_D46\n",
      "Cabin_D47\n",
      "Cabin_D48\n",
      "Cabin_D49\n",
      "Cabin_D50\n",
      "Cabin_D56\n",
      "Cabin_D6\n",
      "Cabin_D7\n",
      "Cabin_D9\n",
      "Cabin_E10\n",
      "Cabin_E101\n",
      "Cabin_E12\n",
      "Cabin_E121\n",
      "Cabin_E17\n",
      "Cabin_E24\n",
      "Cabin_E25\n",
      "Cabin_E31\n",
      "Cabin_E33\n",
      "Cabin_E34\n",
      "Cabin_E36\n",
      "Cabin_E38\n",
      "Cabin_E39 E41\n",
      "Cabin_E40\n",
      "Cabin_E44\n",
      "Cabin_E45\n",
      "Cabin_E46\n",
      "Cabin_E49\n",
      "Cabin_E50\n",
      "Cabin_E52\n",
      "Cabin_E58\n",
      "Cabin_E60\n",
      "Cabin_E63\n",
      "Cabin_E67\n",
      "Cabin_E68\n",
      "Cabin_E77\n",
      "Cabin_E8\n",
      "Cabin_F\n",
      "Cabin_F E46\n",
      "Cabin_F E57\n",
      "Cabin_F E69\n",
      "Cabin_F G63\n",
      "Cabin_F G73\n",
      "Cabin_F2\n",
      "Cabin_F33\n",
      "Cabin_F38\n",
      "Cabin_F4\n",
      "Cabin_G6\n",
      "Cabin_T\n",
      "Embarked_C\n",
      "Embarked_Q\n",
      "Embarked_S\n"
     ]
    }
   ],
   "source": [
    "for column in X_train_data.columns:\n",
    "    print(column)\n",
    "    X_train_data[column] = scaler.fit_transform(np.array(X_train_data[column]).reshape(-1,1))"
   ]
  },
  {
   "cell_type": "code",
   "execution_count": 28,
   "id": "22a7b69b",
   "metadata": {
    "execution": {
     "iopub.execute_input": "2024-09-30T08:13:13.086373Z",
     "iopub.status.busy": "2024-09-30T08:13:13.085939Z",
     "iopub.status.idle": "2024-09-30T08:13:13.091436Z",
     "shell.execute_reply": "2024-09-30T08:13:13.090550Z"
    },
    "papermill": {
     "duration": 0.023728,
     "end_time": "2024-09-30T08:13:13.093801",
     "exception": false,
     "start_time": "2024-09-30T08:13:13.070073",
     "status": "completed"
    },
    "tags": []
   },
   "outputs": [],
   "source": [
    "pipeline = Pipeline([(\"classifier\",SVC(kernel='poly',random_state=42))])"
   ]
  },
  {
   "cell_type": "code",
   "execution_count": 29,
   "id": "36966608",
   "metadata": {
    "execution": {
     "iopub.execute_input": "2024-09-30T08:13:13.124640Z",
     "iopub.status.busy": "2024-09-30T08:13:13.124162Z",
     "iopub.status.idle": "2024-09-30T08:13:13.129571Z",
     "shell.execute_reply": "2024-09-30T08:13:13.128567Z"
    },
    "papermill": {
     "duration": 0.02387,
     "end_time": "2024-09-30T08:13:13.131983",
     "exception": false,
     "start_time": "2024-09-30T08:13:13.108113",
     "status": "completed"
    },
    "tags": []
   },
   "outputs": [],
   "source": [
    "param_grid = [{\"classifier__C\":[0.5,1,2],\n",
    "               \"classifier__coef0\":[0.5,1,2],\n",
    "              \"classifier__degree\":[2,3]}] "
   ]
  },
  {
   "cell_type": "code",
   "execution_count": 30,
   "id": "599c6a23",
   "metadata": {
    "execution": {
     "iopub.execute_input": "2024-09-30T08:13:13.162913Z",
     "iopub.status.busy": "2024-09-30T08:13:13.162459Z",
     "iopub.status.idle": "2024-09-30T08:13:13.168086Z",
     "shell.execute_reply": "2024-09-30T08:13:13.167012Z"
    },
    "papermill": {
     "duration": 0.02423,
     "end_time": "2024-09-30T08:13:13.170438",
     "exception": false,
     "start_time": "2024-09-30T08:13:13.146208",
     "status": "completed"
    },
    "tags": []
   },
   "outputs": [],
   "source": [
    "grid_search = GridSearchCV(pipeline,param_grid,cv=3,scoring=\"accuracy\")"
   ]
  },
  {
   "cell_type": "code",
   "execution_count": 31,
   "id": "a5b456ad",
   "metadata": {
    "execution": {
     "iopub.execute_input": "2024-09-30T08:13:13.201343Z",
     "iopub.status.busy": "2024-09-30T08:13:13.200890Z",
     "iopub.status.idle": "2024-09-30T08:13:16.554164Z",
     "shell.execute_reply": "2024-09-30T08:13:16.552967Z"
    },
    "papermill": {
     "duration": 3.372129,
     "end_time": "2024-09-30T08:13:16.557133",
     "exception": false,
     "start_time": "2024-09-30T08:13:13.185004",
     "status": "completed"
    },
    "tags": []
   },
   "outputs": [
    {
     "name": "stdout",
     "output_type": "stream",
     "text": [
      "CPU times: user 3.26 s, sys: 77 ms, total: 3.34 s\n",
      "Wall time: 3.34 s\n"
     ]
    },
    {
     "data": {
      "text/html": [
       "<style>#sk-container-id-4 {color: black;background-color: white;}#sk-container-id-4 pre{padding: 0;}#sk-container-id-4 div.sk-toggleable {background-color: white;}#sk-container-id-4 label.sk-toggleable__label {cursor: pointer;display: block;width: 100%;margin-bottom: 0;padding: 0.3em;box-sizing: border-box;text-align: center;}#sk-container-id-4 label.sk-toggleable__label-arrow:before {content: \"▸\";float: left;margin-right: 0.25em;color: #696969;}#sk-container-id-4 label.sk-toggleable__label-arrow:hover:before {color: black;}#sk-container-id-4 div.sk-estimator:hover label.sk-toggleable__label-arrow:before {color: black;}#sk-container-id-4 div.sk-toggleable__content {max-height: 0;max-width: 0;overflow: hidden;text-align: left;background-color: #f0f8ff;}#sk-container-id-4 div.sk-toggleable__content pre {margin: 0.2em;color: black;border-radius: 0.25em;background-color: #f0f8ff;}#sk-container-id-4 input.sk-toggleable__control:checked~div.sk-toggleable__content {max-height: 200px;max-width: 100%;overflow: auto;}#sk-container-id-4 input.sk-toggleable__control:checked~label.sk-toggleable__label-arrow:before {content: \"▾\";}#sk-container-id-4 div.sk-estimator input.sk-toggleable__control:checked~label.sk-toggleable__label {background-color: #d4ebff;}#sk-container-id-4 div.sk-label input.sk-toggleable__control:checked~label.sk-toggleable__label {background-color: #d4ebff;}#sk-container-id-4 input.sk-hidden--visually {border: 0;clip: rect(1px 1px 1px 1px);clip: rect(1px, 1px, 1px, 1px);height: 1px;margin: -1px;overflow: hidden;padding: 0;position: absolute;width: 1px;}#sk-container-id-4 div.sk-estimator {font-family: monospace;background-color: #f0f8ff;border: 1px dotted black;border-radius: 0.25em;box-sizing: border-box;margin-bottom: 0.5em;}#sk-container-id-4 div.sk-estimator:hover {background-color: #d4ebff;}#sk-container-id-4 div.sk-parallel-item::after {content: \"\";width: 100%;border-bottom: 1px solid gray;flex-grow: 1;}#sk-container-id-4 div.sk-label:hover label.sk-toggleable__label {background-color: #d4ebff;}#sk-container-id-4 div.sk-serial::before {content: \"\";position: absolute;border-left: 1px solid gray;box-sizing: border-box;top: 0;bottom: 0;left: 50%;z-index: 0;}#sk-container-id-4 div.sk-serial {display: flex;flex-direction: column;align-items: center;background-color: white;padding-right: 0.2em;padding-left: 0.2em;position: relative;}#sk-container-id-4 div.sk-item {position: relative;z-index: 1;}#sk-container-id-4 div.sk-parallel {display: flex;align-items: stretch;justify-content: center;background-color: white;position: relative;}#sk-container-id-4 div.sk-item::before, #sk-container-id-4 div.sk-parallel-item::before {content: \"\";position: absolute;border-left: 1px solid gray;box-sizing: border-box;top: 0;bottom: 0;left: 50%;z-index: -1;}#sk-container-id-4 div.sk-parallel-item {display: flex;flex-direction: column;z-index: 1;position: relative;background-color: white;}#sk-container-id-4 div.sk-parallel-item:first-child::after {align-self: flex-end;width: 50%;}#sk-container-id-4 div.sk-parallel-item:last-child::after {align-self: flex-start;width: 50%;}#sk-container-id-4 div.sk-parallel-item:only-child::after {width: 0;}#sk-container-id-4 div.sk-dashed-wrapped {border: 1px dashed gray;margin: 0 0.4em 0.5em 0.4em;box-sizing: border-box;padding-bottom: 0.4em;background-color: white;}#sk-container-id-4 div.sk-label label {font-family: monospace;font-weight: bold;display: inline-block;line-height: 1.2em;}#sk-container-id-4 div.sk-label-container {text-align: center;}#sk-container-id-4 div.sk-container {/* jupyter's `normalize.less` sets `[hidden] { display: none; }` but bootstrap.min.css set `[hidden] { display: none !important; }` so we also need the `!important` here to be able to override the default hidden behavior on the sphinx rendered scikit-learn.org. See: https://github.com/scikit-learn/scikit-learn/issues/21755 */display: inline-block !important;position: relative;}#sk-container-id-4 div.sk-text-repr-fallback {display: none;}</style><div id=\"sk-container-id-4\" class=\"sk-top-container\"><div class=\"sk-text-repr-fallback\"><pre>GridSearchCV(cv=3,\n",
       "             estimator=Pipeline(steps=[(&#x27;classifier&#x27;,\n",
       "                                        SVC(kernel=&#x27;poly&#x27;, random_state=42))]),\n",
       "             param_grid=[{&#x27;classifier__C&#x27;: [0.5, 1, 2],\n",
       "                          &#x27;classifier__coef0&#x27;: [0.5, 1, 2],\n",
       "                          &#x27;classifier__degree&#x27;: [2, 3]}],\n",
       "             scoring=&#x27;accuracy&#x27;)</pre><b>In a Jupyter environment, please rerun this cell to show the HTML representation or trust the notebook. <br />On GitHub, the HTML representation is unable to render, please try loading this page with nbviewer.org.</b></div><div class=\"sk-container\" hidden><div class=\"sk-item sk-dashed-wrapped\"><div class=\"sk-label-container\"><div class=\"sk-label sk-toggleable\"><input class=\"sk-toggleable__control sk-hidden--visually\" id=\"sk-estimator-id-6\" type=\"checkbox\" ><label for=\"sk-estimator-id-6\" class=\"sk-toggleable__label sk-toggleable__label-arrow\">GridSearchCV</label><div class=\"sk-toggleable__content\"><pre>GridSearchCV(cv=3,\n",
       "             estimator=Pipeline(steps=[(&#x27;classifier&#x27;,\n",
       "                                        SVC(kernel=&#x27;poly&#x27;, random_state=42))]),\n",
       "             param_grid=[{&#x27;classifier__C&#x27;: [0.5, 1, 2],\n",
       "                          &#x27;classifier__coef0&#x27;: [0.5, 1, 2],\n",
       "                          &#x27;classifier__degree&#x27;: [2, 3]}],\n",
       "             scoring=&#x27;accuracy&#x27;)</pre></div></div></div><div class=\"sk-parallel\"><div class=\"sk-parallel-item\"><div class=\"sk-item\"><div class=\"sk-label-container\"><div class=\"sk-label sk-toggleable\"><input class=\"sk-toggleable__control sk-hidden--visually\" id=\"sk-estimator-id-7\" type=\"checkbox\" ><label for=\"sk-estimator-id-7\" class=\"sk-toggleable__label sk-toggleable__label-arrow\">estimator: Pipeline</label><div class=\"sk-toggleable__content\"><pre>Pipeline(steps=[(&#x27;classifier&#x27;, SVC(kernel=&#x27;poly&#x27;, random_state=42))])</pre></div></div></div><div class=\"sk-serial\"><div class=\"sk-item\"><div class=\"sk-serial\"><div class=\"sk-item\"><div class=\"sk-estimator sk-toggleable\"><input class=\"sk-toggleable__control sk-hidden--visually\" id=\"sk-estimator-id-8\" type=\"checkbox\" ><label for=\"sk-estimator-id-8\" class=\"sk-toggleable__label sk-toggleable__label-arrow\">SVC</label><div class=\"sk-toggleable__content\"><pre>SVC(kernel=&#x27;poly&#x27;, random_state=42)</pre></div></div></div></div></div></div></div></div></div></div></div></div>"
      ],
      "text/plain": [
       "GridSearchCV(cv=3,\n",
       "             estimator=Pipeline(steps=[('classifier',\n",
       "                                        SVC(kernel='poly', random_state=42))]),\n",
       "             param_grid=[{'classifier__C': [0.5, 1, 2],\n",
       "                          'classifier__coef0': [0.5, 1, 2],\n",
       "                          'classifier__degree': [2, 3]}],\n",
       "             scoring='accuracy')"
      ]
     },
     "execution_count": 31,
     "metadata": {},
     "output_type": "execute_result"
    }
   ],
   "source": [
    "%%time\n",
    "grid_search.fit(X_train_data,y_train_data.astype('int'))"
   ]
  },
  {
   "cell_type": "code",
   "execution_count": 32,
   "id": "46af3878",
   "metadata": {
    "execution": {
     "iopub.execute_input": "2024-09-30T08:13:16.590012Z",
     "iopub.status.busy": "2024-09-30T08:13:16.588639Z",
     "iopub.status.idle": "2024-09-30T08:13:16.597949Z",
     "shell.execute_reply": "2024-09-30T08:13:16.596764Z"
    },
    "papermill": {
     "duration": 0.028359,
     "end_time": "2024-09-30T08:13:16.600466",
     "exception": false,
     "start_time": "2024-09-30T08:13:16.572107",
     "status": "completed"
    },
    "tags": []
   },
   "outputs": [],
   "source": [
    "cv_res = pd.DataFrame(grid_search.cv_results_)\n",
    "cv_res.sort_values(by=\"mean_test_score\", ascending=False, inplace=True)"
   ]
  },
  {
   "cell_type": "code",
   "execution_count": 33,
   "id": "07cd40d5",
   "metadata": {
    "execution": {
     "iopub.execute_input": "2024-09-30T08:13:16.632463Z",
     "iopub.status.busy": "2024-09-30T08:13:16.632013Z",
     "iopub.status.idle": "2024-09-30T08:13:16.660001Z",
     "shell.execute_reply": "2024-09-30T08:13:16.658826Z"
    },
    "papermill": {
     "duration": 0.047326,
     "end_time": "2024-09-30T08:13:16.662785",
     "exception": false,
     "start_time": "2024-09-30T08:13:16.615459",
     "status": "completed"
    },
    "tags": []
   },
   "outputs": [
    {
     "data": {
      "text/html": [
       "<div>\n",
       "<style scoped>\n",
       "    .dataframe tbody tr th:only-of-type {\n",
       "        vertical-align: middle;\n",
       "    }\n",
       "\n",
       "    .dataframe tbody tr th {\n",
       "        vertical-align: top;\n",
       "    }\n",
       "\n",
       "    .dataframe thead th {\n",
       "        text-align: right;\n",
       "    }\n",
       "</style>\n",
       "<table border=\"1\" class=\"dataframe\">\n",
       "  <thead>\n",
       "    <tr style=\"text-align: right;\">\n",
       "      <th></th>\n",
       "      <th>mean_fit_time</th>\n",
       "      <th>std_fit_time</th>\n",
       "      <th>mean_score_time</th>\n",
       "      <th>std_score_time</th>\n",
       "      <th>param_classifier__C</th>\n",
       "      <th>param_classifier__coef0</th>\n",
       "      <th>param_classifier__degree</th>\n",
       "      <th>params</th>\n",
       "      <th>split0_test_score</th>\n",
       "      <th>split1_test_score</th>\n",
       "      <th>split2_test_score</th>\n",
       "      <th>mean_test_score</th>\n",
       "      <th>std_test_score</th>\n",
       "      <th>rank_test_score</th>\n",
       "    </tr>\n",
       "  </thead>\n",
       "  <tbody>\n",
       "    <tr>\n",
       "      <th>15</th>\n",
       "      <td>0.039467</td>\n",
       "      <td>0.000674</td>\n",
       "      <td>0.016790</td>\n",
       "      <td>0.000217</td>\n",
       "      <td>2</td>\n",
       "      <td>1</td>\n",
       "      <td>3</td>\n",
       "      <td>{'classifier__C': 2, 'classifier__coef0': 1, '...</td>\n",
       "      <td>0.797980</td>\n",
       "      <td>0.808081</td>\n",
       "      <td>0.781145</td>\n",
       "      <td>0.795735</td>\n",
       "      <td>0.011111</td>\n",
       "      <td>1</td>\n",
       "    </tr>\n",
       "    <tr>\n",
       "      <th>11</th>\n",
       "      <td>0.040631</td>\n",
       "      <td>0.000642</td>\n",
       "      <td>0.016955</td>\n",
       "      <td>0.000053</td>\n",
       "      <td>1</td>\n",
       "      <td>2</td>\n",
       "      <td>3</td>\n",
       "      <td>{'classifier__C': 1, 'classifier__coef0': 2, '...</td>\n",
       "      <td>0.797980</td>\n",
       "      <td>0.808081</td>\n",
       "      <td>0.781145</td>\n",
       "      <td>0.795735</td>\n",
       "      <td>0.011111</td>\n",
       "      <td>1</td>\n",
       "    </tr>\n",
       "    <tr>\n",
       "      <th>9</th>\n",
       "      <td>0.041317</td>\n",
       "      <td>0.001327</td>\n",
       "      <td>0.017187</td>\n",
       "      <td>0.000180</td>\n",
       "      <td>1</td>\n",
       "      <td>1</td>\n",
       "      <td>3</td>\n",
       "      <td>{'classifier__C': 1, 'classifier__coef0': 1, '...</td>\n",
       "      <td>0.794613</td>\n",
       "      <td>0.808081</td>\n",
       "      <td>0.781145</td>\n",
       "      <td>0.794613</td>\n",
       "      <td>0.010997</td>\n",
       "      <td>3</td>\n",
       "    </tr>\n",
       "    <tr>\n",
       "      <th>5</th>\n",
       "      <td>0.040074</td>\n",
       "      <td>0.001322</td>\n",
       "      <td>0.016603</td>\n",
       "      <td>0.000465</td>\n",
       "      <td>0.5</td>\n",
       "      <td>2</td>\n",
       "      <td>3</td>\n",
       "      <td>{'classifier__C': 0.5, 'classifier__coef0': 2,...</td>\n",
       "      <td>0.794613</td>\n",
       "      <td>0.808081</td>\n",
       "      <td>0.781145</td>\n",
       "      <td>0.794613</td>\n",
       "      <td>0.010997</td>\n",
       "      <td>3</td>\n",
       "    </tr>\n",
       "    <tr>\n",
       "      <th>13</th>\n",
       "      <td>0.042143</td>\n",
       "      <td>0.000906</td>\n",
       "      <td>0.018313</td>\n",
       "      <td>0.000505</td>\n",
       "      <td>2</td>\n",
       "      <td>0.5</td>\n",
       "      <td>3</td>\n",
       "      <td>{'classifier__C': 2, 'classifier__coef0': 0.5,...</td>\n",
       "      <td>0.794613</td>\n",
       "      <td>0.808081</td>\n",
       "      <td>0.781145</td>\n",
       "      <td>0.794613</td>\n",
       "      <td>0.010997</td>\n",
       "      <td>3</td>\n",
       "    </tr>\n",
       "  </tbody>\n",
       "</table>\n",
       "</div>"
      ],
      "text/plain": [
       "    mean_fit_time  std_fit_time  mean_score_time  std_score_time  \\\n",
       "15       0.039467      0.000674         0.016790        0.000217   \n",
       "11       0.040631      0.000642         0.016955        0.000053   \n",
       "9        0.041317      0.001327         0.017187        0.000180   \n",
       "5        0.040074      0.001322         0.016603        0.000465   \n",
       "13       0.042143      0.000906         0.018313        0.000505   \n",
       "\n",
       "   param_classifier__C param_classifier__coef0 param_classifier__degree  \\\n",
       "15                   2                       1                        3   \n",
       "11                   1                       2                        3   \n",
       "9                    1                       1                        3   \n",
       "5                  0.5                       2                        3   \n",
       "13                   2                     0.5                        3   \n",
       "\n",
       "                                               params  split0_test_score  \\\n",
       "15  {'classifier__C': 2, 'classifier__coef0': 1, '...           0.797980   \n",
       "11  {'classifier__C': 1, 'classifier__coef0': 2, '...           0.797980   \n",
       "9   {'classifier__C': 1, 'classifier__coef0': 1, '...           0.794613   \n",
       "5   {'classifier__C': 0.5, 'classifier__coef0': 2,...           0.794613   \n",
       "13  {'classifier__C': 2, 'classifier__coef0': 0.5,...           0.794613   \n",
       "\n",
       "    split1_test_score  split2_test_score  mean_test_score  std_test_score  \\\n",
       "15           0.808081           0.781145         0.795735        0.011111   \n",
       "11           0.808081           0.781145         0.795735        0.011111   \n",
       "9            0.808081           0.781145         0.794613        0.010997   \n",
       "5            0.808081           0.781145         0.794613        0.010997   \n",
       "13           0.808081           0.781145         0.794613        0.010997   \n",
       "\n",
       "    rank_test_score  \n",
       "15                1  \n",
       "11                1  \n",
       "9                 3  \n",
       "5                 3  \n",
       "13                3  "
      ]
     },
     "execution_count": 33,
     "metadata": {},
     "output_type": "execute_result"
    }
   ],
   "source": [
    "cv_res.head()"
   ]
  },
  {
   "cell_type": "markdown",
   "id": "6f0f7a5a",
   "metadata": {
    "papermill": {
     "duration": 0.015073,
     "end_time": "2024-09-30T08:13:16.693383",
     "exception": false,
     "start_time": "2024-09-30T08:13:16.678310",
     "status": "completed"
    },
    "tags": []
   },
   "source": [
    "**Final Evaluation:**"
   ]
  },
  {
   "cell_type": "code",
   "execution_count": 34,
   "id": "68c8b319",
   "metadata": {
    "execution": {
     "iopub.execute_input": "2024-09-30T08:13:16.726455Z",
     "iopub.status.busy": "2024-09-30T08:13:16.725414Z",
     "iopub.status.idle": "2024-09-30T08:13:16.758293Z",
     "shell.execute_reply": "2024-09-30T08:13:16.757340Z"
    },
    "papermill": {
     "duration": 0.052421,
     "end_time": "2024-09-30T08:13:16.761111",
     "exception": false,
     "start_time": "2024-09-30T08:13:16.708690",
     "status": "completed"
    },
    "tags": []
   },
   "outputs": [],
   "source": [
    "final_evaluation = grid_search.predict(test_data)"
   ]
  },
  {
   "cell_type": "code",
   "execution_count": 35,
   "id": "cb12aa53",
   "metadata": {
    "execution": {
     "iopub.execute_input": "2024-09-30T08:13:16.793799Z",
     "iopub.status.busy": "2024-09-30T08:13:16.793368Z",
     "iopub.status.idle": "2024-09-30T08:13:16.806198Z",
     "shell.execute_reply": "2024-09-30T08:13:16.804998Z"
    },
    "papermill": {
     "duration": 0.032467,
     "end_time": "2024-09-30T08:13:16.809091",
     "exception": false,
     "start_time": "2024-09-30T08:13:16.776624",
     "status": "completed"
    },
    "tags": []
   },
   "outputs": [
    {
     "data": {
      "text/html": [
       "<div>\n",
       "<style scoped>\n",
       "    .dataframe tbody tr th:only-of-type {\n",
       "        vertical-align: middle;\n",
       "    }\n",
       "\n",
       "    .dataframe tbody tr th {\n",
       "        vertical-align: top;\n",
       "    }\n",
       "\n",
       "    .dataframe thead th {\n",
       "        text-align: right;\n",
       "    }\n",
       "</style>\n",
       "<table border=\"1\" class=\"dataframe\">\n",
       "  <thead>\n",
       "    <tr style=\"text-align: right;\">\n",
       "      <th></th>\n",
       "      <th>PassengerId</th>\n",
       "      <th>Survived</th>\n",
       "    </tr>\n",
       "  </thead>\n",
       "  <tbody>\n",
       "    <tr>\n",
       "      <th>0</th>\n",
       "      <td>892</td>\n",
       "      <td>1</td>\n",
       "    </tr>\n",
       "    <tr>\n",
       "      <th>1</th>\n",
       "      <td>893</td>\n",
       "      <td>1</td>\n",
       "    </tr>\n",
       "    <tr>\n",
       "      <th>2</th>\n",
       "      <td>894</td>\n",
       "      <td>1</td>\n",
       "    </tr>\n",
       "    <tr>\n",
       "      <th>3</th>\n",
       "      <td>895</td>\n",
       "      <td>1</td>\n",
       "    </tr>\n",
       "    <tr>\n",
       "      <th>4</th>\n",
       "      <td>896</td>\n",
       "      <td>1</td>\n",
       "    </tr>\n",
       "    <tr>\n",
       "      <th>...</th>\n",
       "      <td>...</td>\n",
       "      <td>...</td>\n",
       "    </tr>\n",
       "    <tr>\n",
       "      <th>413</th>\n",
       "      <td>1305</td>\n",
       "      <td>1</td>\n",
       "    </tr>\n",
       "    <tr>\n",
       "      <th>414</th>\n",
       "      <td>1306</td>\n",
       "      <td>1</td>\n",
       "    </tr>\n",
       "    <tr>\n",
       "      <th>415</th>\n",
       "      <td>1307</td>\n",
       "      <td>1</td>\n",
       "    </tr>\n",
       "    <tr>\n",
       "      <th>416</th>\n",
       "      <td>1308</td>\n",
       "      <td>1</td>\n",
       "    </tr>\n",
       "    <tr>\n",
       "      <th>417</th>\n",
       "      <td>1309</td>\n",
       "      <td>1</td>\n",
       "    </tr>\n",
       "  </tbody>\n",
       "</table>\n",
       "<p>418 rows × 2 columns</p>\n",
       "</div>"
      ],
      "text/plain": [
       "     PassengerId  Survived\n",
       "0            892         1\n",
       "1            893         1\n",
       "2            894         1\n",
       "3            895         1\n",
       "4            896         1\n",
       "..           ...       ...\n",
       "413         1305         1\n",
       "414         1306         1\n",
       "415         1307         1\n",
       "416         1308         1\n",
       "417         1309         1\n",
       "\n",
       "[418 rows x 2 columns]"
      ]
     },
     "execution_count": 35,
     "metadata": {},
     "output_type": "execute_result"
    }
   ],
   "source": [
    "\n",
    "d = {'PassengerId':np.arange(len(final_evaluation)) + 1+891,'Survived':final_evaluation}\n",
    "df = pd.DataFrame(data=d)\n",
    "df"
   ]
  },
  {
   "cell_type": "code",
   "execution_count": 36,
   "id": "a478136f",
   "metadata": {
    "execution": {
     "iopub.execute_input": "2024-09-30T08:13:16.842899Z",
     "iopub.status.busy": "2024-09-30T08:13:16.842045Z",
     "iopub.status.idle": "2024-09-30T08:13:16.850813Z",
     "shell.execute_reply": "2024-09-30T08:13:16.849755Z"
    },
    "papermill": {
     "duration": 0.028622,
     "end_time": "2024-09-30T08:13:16.853501",
     "exception": false,
     "start_time": "2024-09-30T08:13:16.824879",
     "status": "completed"
    },
    "tags": []
   },
   "outputs": [],
   "source": [
    "df.to_csv('out.csv',index=False)"
   ]
  },
  {
   "cell_type": "code",
   "execution_count": null,
   "id": "04fe0e6c",
   "metadata": {
    "papermill": {
     "duration": 0.015583,
     "end_time": "2024-09-30T08:13:16.885081",
     "exception": false,
     "start_time": "2024-09-30T08:13:16.869498",
     "status": "completed"
    },
    "tags": []
   },
   "outputs": [],
   "source": []
  }
 ],
 "metadata": {
  "kaggle": {
   "accelerator": "none",
   "dataSources": [
    {
     "databundleVersionId": 26502,
     "sourceId": 3136,
     "sourceType": "competition"
    }
   ],
   "dockerImageVersionId": 30761,
   "isGpuEnabled": false,
   "isInternetEnabled": false,
   "language": "python",
   "sourceType": "notebook"
  },
  "kernelspec": {
   "display_name": "Python 3",
   "language": "python",
   "name": "python3"
  },
  "language_info": {
   "codemirror_mode": {
    "name": "ipython",
    "version": 3
   },
   "file_extension": ".py",
   "mimetype": "text/x-python",
   "name": "python",
   "nbconvert_exporter": "python",
   "pygments_lexer": "ipython3",
   "version": "3.10.14"
  },
  "papermill": {
   "default_parameters": {},
   "duration": 25.024125,
   "end_time": "2024-09-30T08:13:17.522732",
   "environment_variables": {},
   "exception": null,
   "input_path": "__notebook__.ipynb",
   "output_path": "__notebook__.ipynb",
   "parameters": {},
   "start_time": "2024-09-30T08:12:52.498607",
   "version": "2.6.0"
  }
 },
 "nbformat": 4,
 "nbformat_minor": 5
}
