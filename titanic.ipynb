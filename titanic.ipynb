{
 "cells": [
  {
   "cell_type": "markdown",
   "id": "024d2987",
   "metadata": {
    "papermill": {
     "duration": 0.014173,
     "end_time": "2024-09-30T08:04:50.755660",
     "exception": false,
     "start_time": "2024-09-30T08:04:50.741487",
     "status": "completed"
    },
    "tags": []
   },
   "source": [
    "**Importing Libraries :**"
   ]
  },
  {
   "cell_type": "code",
   "execution_count": 1,
   "id": "83004fa1",
   "metadata": {
    "execution": {
     "iopub.execute_input": "2024-09-30T08:04:50.784730Z",
     "iopub.status.busy": "2024-09-30T08:04:50.784182Z",
     "iopub.status.idle": "2024-09-30T08:04:54.304599Z",
     "shell.execute_reply": "2024-09-30T08:04:54.303323Z"
    },
    "papermill": {
     "duration": 3.538735,
     "end_time": "2024-09-30T08:04:54.307843",
     "exception": false,
     "start_time": "2024-09-30T08:04:50.769108",
     "status": "completed"
    },
    "tags": []
   },
   "outputs": [],
   "source": [
    "import numpy as np\n",
    "import pandas as pd\n",
    "import os\n",
    "from pathlib import Path\n",
    "import matplotlib as plt\n",
    "from sklearn.neighbors import KNeighborsClassifier\n",
    "from sklearn.model_selection import cross_val_score\n",
    "from sklearn.model_selection import cross_val_predict\n",
    "from sklearn.metrics import ConfusionMatrixDisplay\n",
    "from sklearn.pipeline import Pipeline\n",
    "from sklearn.model_selection import GridSearchCV\n",
    "from scipy.ndimage import shift\n",
    "from IPython.display import clear_output\n",
    "from sklearn.impute import SimpleImputer\n",
    "from sklearn.preprocessing import OneHotEncoder\n",
    "from sklearn.tree import DecisionTreeClassifier\n",
    "from sklearn.ensemble import RandomForestClassifier\n",
    "from sklearn.preprocessing import OrdinalEncoder\n",
    "import seaborn\n",
    "from sklearn.preprocessing import StandardScaler\n",
    "from sklearn.svm import SVC\n",
    "#import joypy\n",
    "#import pywaffle"
   ]
  },
  {
   "cell_type": "markdown",
   "id": "df0501f7",
   "metadata": {
    "papermill": {
     "duration": 0.013548,
     "end_time": "2024-09-30T08:04:54.335548",
     "exception": false,
     "start_time": "2024-09-30T08:04:54.322000",
     "status": "completed"
    },
    "tags": []
   },
   "source": [
    "**Listing files under the input directory :**"
   ]
  },
  {
   "cell_type": "code",
   "execution_count": 2,
   "id": "345883d8",
   "metadata": {
    "execution": {
     "iopub.execute_input": "2024-09-30T08:04:54.373903Z",
     "iopub.status.busy": "2024-09-30T08:04:54.373145Z",
     "iopub.status.idle": "2024-09-30T08:04:54.386567Z",
     "shell.execute_reply": "2024-09-30T08:04:54.384215Z"
    },
    "papermill": {
     "duration": 0.040217,
     "end_time": "2024-09-30T08:04:54.391124",
     "exception": false,
     "start_time": "2024-09-30T08:04:54.350907",
     "status": "completed"
    },
    "tags": []
   },
   "outputs": [
    {
     "name": "stdout",
     "output_type": "stream",
     "text": [
      "/kaggle/input/titanic/train.csv\n",
      "/kaggle/input/titanic/test.csv\n",
      "/kaggle/input/titanic/gender_submission.csv\n"
     ]
    }
   ],
   "source": [
    "for dirname, _, filenames in os.walk('/kaggle/input'):\n",
    "    for filename in filenames:\n",
    "        print(os.path.join(dirname, filename))"
   ]
  },
  {
   "cell_type": "markdown",
   "id": "29959d73",
   "metadata": {
    "papermill": {
     "duration": 0.017484,
     "end_time": "2024-09-30T08:04:54.428221",
     "exception": false,
     "start_time": "2024-09-30T08:04:54.410737",
     "status": "completed"
    },
    "tags": []
   },
   "source": [
    "**Reading CSV files:**"
   ]
  },
  {
   "cell_type": "code",
   "execution_count": 3,
   "id": "00532588",
   "metadata": {
    "execution": {
     "iopub.execute_input": "2024-09-30T08:04:54.457838Z",
     "iopub.status.busy": "2024-09-30T08:04:54.457396Z",
     "iopub.status.idle": "2024-09-30T08:04:54.502442Z",
     "shell.execute_reply": "2024-09-30T08:04:54.500183Z"
    },
    "papermill": {
     "duration": 0.065026,
     "end_time": "2024-09-30T08:04:54.507248",
     "exception": false,
     "start_time": "2024-09-30T08:04:54.442222",
     "status": "completed"
    },
    "tags": []
   },
   "outputs": [],
   "source": [
    "train_data = pd.read_csv(Path(\"/kaggle/input/titanic/train.csv\"))\n",
    "test_data = pd.read_csv(Path(\"/kaggle/input/titanic/test.csv\"))\n",
    "gender_submission = pd.read_csv(Path(\"/kaggle/input/titanic/gender_submission.csv\"))"
   ]
  },
  {
   "cell_type": "markdown",
   "id": "a7f8ad11",
   "metadata": {
    "papermill": {
     "duration": 0.014507,
     "end_time": "2024-09-30T08:04:54.541454",
     "exception": false,
     "start_time": "2024-09-30T08:04:54.526947",
     "status": "completed"
    },
    "tags": []
   },
   "source": [
    "**Preparing the data:**"
   ]
  },
  {
   "cell_type": "code",
   "execution_count": 4,
   "id": "2c478313",
   "metadata": {
    "execution": {
     "iopub.execute_input": "2024-09-30T08:04:54.584267Z",
     "iopub.status.busy": "2024-09-30T08:04:54.580568Z",
     "iopub.status.idle": "2024-09-30T08:04:54.595794Z",
     "shell.execute_reply": "2024-09-30T08:04:54.594318Z"
    },
    "papermill": {
     "duration": 0.037153,
     "end_time": "2024-09-30T08:04:54.599676",
     "exception": false,
     "start_time": "2024-09-30T08:04:54.562523",
     "status": "completed"
    },
    "tags": []
   },
   "outputs": [],
   "source": [
    "def opaw_tabular_histogram(dataframe,title=\"Histogram\",maxcolors=32):\n",
    "    #import matplotlib as plt\n",
    "    canvas , pic = plt.pyplot.subplots(1,1,figsize=(12,6))\n",
    "    comap = plt.cm.get_cmap(\"rainbow\",256)\n",
    "    newcolors = comap(np.linspace(0, 1, maxcolors))\n",
    "    dataframe.plot.hist(ax=pic,color=newcolors)\n",
    "    pic.set_title(title,fontsize= 20.0)\n",
    "    pic.legend(ncol=2,loc =\"upper right\")\n",
    "    canvas.tight_layout()\n",
    "    canvas.show()\n",
    "    return"
   ]
  },
  {
   "cell_type": "code",
   "execution_count": 5,
   "id": "a6ca3748",
   "metadata": {
    "execution": {
     "iopub.execute_input": "2024-09-30T08:04:54.640628Z",
     "iopub.status.busy": "2024-09-30T08:04:54.639415Z",
     "iopub.status.idle": "2024-09-30T08:04:54.650778Z",
     "shell.execute_reply": "2024-09-30T08:04:54.649173Z"
    },
    "papermill": {
     "duration": 0.036591,
     "end_time": "2024-09-30T08:04:54.654671",
     "exception": false,
     "start_time": "2024-09-30T08:04:54.618080",
     "status": "completed"
    },
    "tags": []
   },
   "outputs": [],
   "source": [
    "def _fetch_token_index(value,arr):\n",
    "    for i , x in enumerate(arr) :\n",
    "        if (value==x):\n",
    "            return i\n",
    "    return\n",
    "\n",
    "\n",
    "def add_token_index(dataframe,df_colname):\n",
    "    for col in df_colname:\n",
    "        tname = col + \"_tokenize\"\n",
    "        arrname = dataframe[col].unique()\n",
    "        dataframe[tname] = dataframe[col].apply(_fetch_token_index,args=(arrname,))\n",
    "    return"
   ]
  },
  {
   "cell_type": "code",
   "execution_count": 6,
   "id": "9bf80433",
   "metadata": {
    "execution": {
     "iopub.execute_input": "2024-09-30T08:04:54.687766Z",
     "iopub.status.busy": "2024-09-30T08:04:54.687277Z",
     "iopub.status.idle": "2024-09-30T08:04:54.694192Z",
     "shell.execute_reply": "2024-09-30T08:04:54.692958Z"
    },
    "papermill": {
     "duration": 0.02536,
     "end_time": "2024-09-30T08:04:54.697049",
     "exception": false,
     "start_time": "2024-09-30T08:04:54.671689",
     "status": "completed"
    },
    "tags": []
   },
   "outputs": [],
   "source": [
    "def _fetch_checksum(dataframe):\n",
    "    dataframe[\"checksum\"] = dataframe.apply(lambda x:np.mean(tuple(x)),axis=1)\n",
    "    return"
   ]
  },
  {
   "cell_type": "code",
   "execution_count": 7,
   "id": "bab16a30",
   "metadata": {
    "execution": {
     "iopub.execute_input": "2024-09-30T08:04:54.727760Z",
     "iopub.status.busy": "2024-09-30T08:04:54.727308Z",
     "iopub.status.idle": "2024-09-30T08:04:54.735577Z",
     "shell.execute_reply": "2024-09-30T08:04:54.734254Z"
    },
    "papermill": {
     "duration": 0.026792,
     "end_time": "2024-09-30T08:04:54.738254",
     "exception": false,
     "start_time": "2024-09-30T08:04:54.711462",
     "status": "completed"
    },
    "tags": []
   },
   "outputs": [],
   "source": [
    "def draw_tabular_correlogram(dataframe,title=\"\",figsize=(6,5)):\n",
    "    canvas = plt.pyplot.figure(figsize=figsize)\n",
    "    seaborn.heatmap(dataframe.corr(),xticklabels=dataframe.corr().columns,yticklabels=dataframe.corr().columns,cmap=\"viridis_r\",center=0,annot=True)\n",
    "    plt.pyplot.title(title,fontsize=20.0)\n",
    "    canvas.show()"
   ]
  },
  {
   "cell_type": "code",
   "execution_count": 8,
   "id": "0a414661",
   "metadata": {
    "execution": {
     "iopub.execute_input": "2024-09-30T08:04:54.775389Z",
     "iopub.status.busy": "2024-09-30T08:04:54.774780Z",
     "iopub.status.idle": "2024-09-30T08:04:54.783539Z",
     "shell.execute_reply": "2024-09-30T08:04:54.781803Z"
    },
    "papermill": {
     "duration": 0.03008,
     "end_time": "2024-09-30T08:04:54.786700",
     "exception": false,
     "start_time": "2024-09-30T08:04:54.756620",
     "status": "completed"
    },
    "tags": []
   },
   "outputs": [],
   "source": [
    "def draw_tanular_joyplot(dataframe,x=[],y='network',t='',legloc='upper left'):\n",
    "    canvas , pic = joypy.joyplot(dataframe,column=x,by=y,ylim='own',figsize=(12,6),overlap=1)\n",
    "    plt.pyplot.title(t,fontsize=22)\n",
    "    pics[0].legend(nloc=2,loc=legloc)\n",
    "    canvas.tight_layout()\n",
    "    canvas.show()\n",
    "    return"
   ]
  },
  {
   "cell_type": "code",
   "execution_count": 9,
   "id": "a2ca5d6e",
   "metadata": {
    "execution": {
     "iopub.execute_input": "2024-09-30T08:04:54.816472Z",
     "iopub.status.busy": "2024-09-30T08:04:54.816024Z",
     "iopub.status.idle": "2024-09-30T08:04:54.827063Z",
     "shell.execute_reply": "2024-09-30T08:04:54.825060Z"
    },
    "papermill": {
     "duration": 0.03084,
     "end_time": "2024-09-30T08:04:54.831160",
     "exception": false,
     "start_time": "2024-09-30T08:04:54.800320",
     "status": "completed"
    },
    "tags": []
   },
   "outputs": [],
   "source": [
    "def draw_tabular_waffle(dataframe_org,col,title='',legloc='lower center', anchor=(0.5, -0.5)):\n",
    "    dataframe = dataframe_org.groupby(col).size().reset_index(name='counts')\n",
    "    cat = dataframe.shape[0]\n",
    "    colors = [pt.pyplot.cm.nipy_spectral(i/float(cat)) for i in range(cat)]\n",
    "    canvas = matplotlib.pyplot.figure( FigureClass=pywaffle.Waffle,rows=4,values=df['counts'],colors=colors,figsize=(10, 8))\n",
    "    canvas.tight_layout()\n",
    "    canvas.show()\n",
    "    return"
   ]
  },
  {
   "cell_type": "code",
   "execution_count": 10,
   "id": "d6067d7c",
   "metadata": {
    "execution": {
     "iopub.execute_input": "2024-09-30T08:04:54.861525Z",
     "iopub.status.busy": "2024-09-30T08:04:54.861061Z",
     "iopub.status.idle": "2024-09-30T08:04:54.885740Z",
     "shell.execute_reply": "2024-09-30T08:04:54.884275Z"
    },
    "papermill": {
     "duration": 0.043284,
     "end_time": "2024-09-30T08:04:54.888867",
     "exception": false,
     "start_time": "2024-09-30T08:04:54.845583",
     "status": "completed"
    },
    "tags": []
   },
   "outputs": [],
   "source": [
    "train_data = train_data.drop([\"Ticket\",'Name'],axis=1)\n",
    "X_train_data = train_data.drop(\"Survived\",axis=1)\n",
    "y_train_data = train_data[\"Survived\"]\n",
    "test_data = test_data.drop([\"Ticket\",'Name'],axis=1)"
   ]
  },
  {
   "cell_type": "markdown",
   "id": "67193189",
   "metadata": {
    "papermill": {
     "duration": 0.014007,
     "end_time": "2024-09-30T08:04:54.917336",
     "exception": false,
     "start_time": "2024-09-30T08:04:54.903329",
     "status": "completed"
    },
    "tags": []
   },
   "source": [
    "**Imputing:**"
   ]
  },
  {
   "cell_type": "code",
   "execution_count": 11,
   "id": "ebc9ca2f",
   "metadata": {
    "execution": {
     "iopub.execute_input": "2024-09-30T08:04:54.946431Z",
     "iopub.status.busy": "2024-09-30T08:04:54.945980Z",
     "iopub.status.idle": "2024-09-30T08:04:54.952049Z",
     "shell.execute_reply": "2024-09-30T08:04:54.950880Z"
    },
    "papermill": {
     "duration": 0.02364,
     "end_time": "2024-09-30T08:04:54.954722",
     "exception": false,
     "start_time": "2024-09-30T08:04:54.931082",
     "status": "completed"
    },
    "tags": []
   },
   "outputs": [],
   "source": [
    "imputer = SimpleImputer(strategy=\"most_frequent\")"
   ]
  },
  {
   "cell_type": "code",
   "execution_count": 12,
   "id": "5c861cf3",
   "metadata": {
    "execution": {
     "iopub.execute_input": "2024-09-30T08:04:54.984358Z",
     "iopub.status.busy": "2024-09-30T08:04:54.983933Z",
     "iopub.status.idle": "2024-09-30T08:04:55.005731Z",
     "shell.execute_reply": "2024-09-30T08:04:55.004361Z"
    },
    "papermill": {
     "duration": 0.040096,
     "end_time": "2024-09-30T08:04:55.008683",
     "exception": false,
     "start_time": "2024-09-30T08:04:54.968587",
     "status": "completed"
    },
    "tags": []
   },
   "outputs": [
    {
     "data": {
      "text/html": [
       "<style>#sk-container-id-1 {color: black;background-color: white;}#sk-container-id-1 pre{padding: 0;}#sk-container-id-1 div.sk-toggleable {background-color: white;}#sk-container-id-1 label.sk-toggleable__label {cursor: pointer;display: block;width: 100%;margin-bottom: 0;padding: 0.3em;box-sizing: border-box;text-align: center;}#sk-container-id-1 label.sk-toggleable__label-arrow:before {content: \"▸\";float: left;margin-right: 0.25em;color: #696969;}#sk-container-id-1 label.sk-toggleable__label-arrow:hover:before {color: black;}#sk-container-id-1 div.sk-estimator:hover label.sk-toggleable__label-arrow:before {color: black;}#sk-container-id-1 div.sk-toggleable__content {max-height: 0;max-width: 0;overflow: hidden;text-align: left;background-color: #f0f8ff;}#sk-container-id-1 div.sk-toggleable__content pre {margin: 0.2em;color: black;border-radius: 0.25em;background-color: #f0f8ff;}#sk-container-id-1 input.sk-toggleable__control:checked~div.sk-toggleable__content {max-height: 200px;max-width: 100%;overflow: auto;}#sk-container-id-1 input.sk-toggleable__control:checked~label.sk-toggleable__label-arrow:before {content: \"▾\";}#sk-container-id-1 div.sk-estimator input.sk-toggleable__control:checked~label.sk-toggleable__label {background-color: #d4ebff;}#sk-container-id-1 div.sk-label input.sk-toggleable__control:checked~label.sk-toggleable__label {background-color: #d4ebff;}#sk-container-id-1 input.sk-hidden--visually {border: 0;clip: rect(1px 1px 1px 1px);clip: rect(1px, 1px, 1px, 1px);height: 1px;margin: -1px;overflow: hidden;padding: 0;position: absolute;width: 1px;}#sk-container-id-1 div.sk-estimator {font-family: monospace;background-color: #f0f8ff;border: 1px dotted black;border-radius: 0.25em;box-sizing: border-box;margin-bottom: 0.5em;}#sk-container-id-1 div.sk-estimator:hover {background-color: #d4ebff;}#sk-container-id-1 div.sk-parallel-item::after {content: \"\";width: 100%;border-bottom: 1px solid gray;flex-grow: 1;}#sk-container-id-1 div.sk-label:hover label.sk-toggleable__label {background-color: #d4ebff;}#sk-container-id-1 div.sk-serial::before {content: \"\";position: absolute;border-left: 1px solid gray;box-sizing: border-box;top: 0;bottom: 0;left: 50%;z-index: 0;}#sk-container-id-1 div.sk-serial {display: flex;flex-direction: column;align-items: center;background-color: white;padding-right: 0.2em;padding-left: 0.2em;position: relative;}#sk-container-id-1 div.sk-item {position: relative;z-index: 1;}#sk-container-id-1 div.sk-parallel {display: flex;align-items: stretch;justify-content: center;background-color: white;position: relative;}#sk-container-id-1 div.sk-item::before, #sk-container-id-1 div.sk-parallel-item::before {content: \"\";position: absolute;border-left: 1px solid gray;box-sizing: border-box;top: 0;bottom: 0;left: 50%;z-index: -1;}#sk-container-id-1 div.sk-parallel-item {display: flex;flex-direction: column;z-index: 1;position: relative;background-color: white;}#sk-container-id-1 div.sk-parallel-item:first-child::after {align-self: flex-end;width: 50%;}#sk-container-id-1 div.sk-parallel-item:last-child::after {align-self: flex-start;width: 50%;}#sk-container-id-1 div.sk-parallel-item:only-child::after {width: 0;}#sk-container-id-1 div.sk-dashed-wrapped {border: 1px dashed gray;margin: 0 0.4em 0.5em 0.4em;box-sizing: border-box;padding-bottom: 0.4em;background-color: white;}#sk-container-id-1 div.sk-label label {font-family: monospace;font-weight: bold;display: inline-block;line-height: 1.2em;}#sk-container-id-1 div.sk-label-container {text-align: center;}#sk-container-id-1 div.sk-container {/* jupyter's `normalize.less` sets `[hidden] { display: none; }` but bootstrap.min.css set `[hidden] { display: none !important; }` so we also need the `!important` here to be able to override the default hidden behavior on the sphinx rendered scikit-learn.org. See: https://github.com/scikit-learn/scikit-learn/issues/21755 */display: inline-block !important;position: relative;}#sk-container-id-1 div.sk-text-repr-fallback {display: none;}</style><div id=\"sk-container-id-1\" class=\"sk-top-container\"><div class=\"sk-text-repr-fallback\"><pre>SimpleImputer(strategy=&#x27;most_frequent&#x27;)</pre><b>In a Jupyter environment, please rerun this cell to show the HTML representation or trust the notebook. <br />On GitHub, the HTML representation is unable to render, please try loading this page with nbviewer.org.</b></div><div class=\"sk-container\" hidden><div class=\"sk-item\"><div class=\"sk-estimator sk-toggleable\"><input class=\"sk-toggleable__control sk-hidden--visually\" id=\"sk-estimator-id-1\" type=\"checkbox\" checked><label for=\"sk-estimator-id-1\" class=\"sk-toggleable__label sk-toggleable__label-arrow\">SimpleImputer</label><div class=\"sk-toggleable__content\"><pre>SimpleImputer(strategy=&#x27;most_frequent&#x27;)</pre></div></div></div></div></div>"
      ],
      "text/plain": [
       "SimpleImputer(strategy='most_frequent')"
      ]
     },
     "execution_count": 12,
     "metadata": {},
     "output_type": "execute_result"
    }
   ],
   "source": [
    "imputer.fit(pd.concat([X_train_data,test_data]))"
   ]
  },
  {
   "cell_type": "code",
   "execution_count": 13,
   "id": "bfdb932f",
   "metadata": {
    "execution": {
     "iopub.execute_input": "2024-09-30T08:04:55.039490Z",
     "iopub.status.busy": "2024-09-30T08:04:55.039042Z",
     "iopub.status.idle": "2024-09-30T08:04:55.044477Z",
     "shell.execute_reply": "2024-09-30T08:04:55.043373Z"
    },
    "papermill": {
     "duration": 0.024086,
     "end_time": "2024-09-30T08:04:55.047116",
     "exception": false,
     "start_time": "2024-09-30T08:04:55.023030",
     "status": "completed"
    },
    "tags": []
   },
   "outputs": [],
   "source": [
    "c = X_train_data.columns\n",
    "i_train = X_train_data.index\n",
    "i_test = test_data.index"
   ]
  },
  {
   "cell_type": "code",
   "execution_count": 14,
   "id": "2380565c",
   "metadata": {
    "execution": {
     "iopub.execute_input": "2024-09-30T08:04:55.090101Z",
     "iopub.status.busy": "2024-09-30T08:04:55.088181Z",
     "iopub.status.idle": "2024-09-30T08:04:55.101642Z",
     "shell.execute_reply": "2024-09-30T08:04:55.100207Z"
    },
    "papermill": {
     "duration": 0.038807,
     "end_time": "2024-09-30T08:04:55.104931",
     "exception": false,
     "start_time": "2024-09-30T08:04:55.066124",
     "status": "completed"
    },
    "tags": []
   },
   "outputs": [],
   "source": [
    "X_train_data = pd.DataFrame(imputer.transform(X_train_data),columns = c,index = i_train)"
   ]
  },
  {
   "cell_type": "code",
   "execution_count": 15,
   "id": "63ba382a",
   "metadata": {
    "execution": {
     "iopub.execute_input": "2024-09-30T08:04:55.137424Z",
     "iopub.status.busy": "2024-09-30T08:04:55.136848Z",
     "iopub.status.idle": "2024-09-30T08:04:55.148007Z",
     "shell.execute_reply": "2024-09-30T08:04:55.146648Z"
    },
    "papermill": {
     "duration": 0.031015,
     "end_time": "2024-09-30T08:04:55.150931",
     "exception": false,
     "start_time": "2024-09-30T08:04:55.119916",
     "status": "completed"
    },
    "tags": []
   },
   "outputs": [],
   "source": [
    "test_data = pd.DataFrame(imputer.transform(test_data),columns = c,index=i_test)"
   ]
  },
  {
   "cell_type": "markdown",
   "id": "78a14186",
   "metadata": {
    "papermill": {
     "duration": 0.016982,
     "end_time": "2024-09-30T08:04:55.182421",
     "exception": false,
     "start_time": "2024-09-30T08:04:55.165439",
     "status": "completed"
    },
    "tags": []
   },
   "source": [
    "**One-hot encoding:**"
   ]
  },
  {
   "cell_type": "code",
   "execution_count": 16,
   "id": "c4bdf623",
   "metadata": {
    "execution": {
     "iopub.execute_input": "2024-09-30T08:04:55.216169Z",
     "iopub.status.busy": "2024-09-30T08:04:55.215039Z",
     "iopub.status.idle": "2024-09-30T08:04:55.224540Z",
     "shell.execute_reply": "2024-09-30T08:04:55.222974Z"
    },
    "papermill": {
     "duration": 0.028975,
     "end_time": "2024-09-30T08:04:55.227602",
     "exception": false,
     "start_time": "2024-09-30T08:04:55.198627",
     "status": "completed"
    },
    "tags": []
   },
   "outputs": [],
   "source": [
    "def OneHotE(dataframe,cat_col,cat_encoder):\n",
    "    dataframe_num = dataframe.drop(cat_col,axis=1)\n",
    "    dataframe_cat = dataframe[cat_col]\n",
    "    dataframe_cat = cat_encoder.transform(dataframe_cat)\n",
    "    dataframe_cat = pd.DataFrame(dataframe_cat.toarray(),columns=cat_encoder.get_feature_names_out(),index=dataframe.index)\n",
    "    dataframe = pd.concat([dataframe_num,dataframe_cat],axis=1)    \n",
    "    return dataframe"
   ]
  },
  {
   "cell_type": "code",
   "execution_count": 17,
   "id": "c763adfd",
   "metadata": {
    "execution": {
     "iopub.execute_input": "2024-09-30T08:04:55.260116Z",
     "iopub.status.busy": "2024-09-30T08:04:55.258980Z",
     "iopub.status.idle": "2024-09-30T08:04:55.265882Z",
     "shell.execute_reply": "2024-09-30T08:04:55.264192Z"
    },
    "papermill": {
     "duration": 0.026084,
     "end_time": "2024-09-30T08:04:55.268843",
     "exception": false,
     "start_time": "2024-09-30T08:04:55.242759",
     "status": "completed"
    },
    "tags": []
   },
   "outputs": [],
   "source": [
    "str_cat = ['Sex','Cabin','Embarked']"
   ]
  },
  {
   "cell_type": "code",
   "execution_count": 18,
   "id": "cf1a7e29",
   "metadata": {
    "execution": {
     "iopub.execute_input": "2024-09-30T08:04:55.302131Z",
     "iopub.status.busy": "2024-09-30T08:04:55.300740Z",
     "iopub.status.idle": "2024-09-30T08:04:55.307776Z",
     "shell.execute_reply": "2024-09-30T08:04:55.306405Z"
    },
    "papermill": {
     "duration": 0.027137,
     "end_time": "2024-09-30T08:04:55.311082",
     "exception": false,
     "start_time": "2024-09-30T08:04:55.283945",
     "status": "completed"
    },
    "tags": []
   },
   "outputs": [],
   "source": [
    "cat_encoder = OneHotEncoder()"
   ]
  },
  {
   "cell_type": "code",
   "execution_count": 19,
   "id": "68ebe1b9",
   "metadata": {
    "execution": {
     "iopub.execute_input": "2024-09-30T08:04:55.351576Z",
     "iopub.status.busy": "2024-09-30T08:04:55.351125Z",
     "iopub.status.idle": "2024-09-30T08:04:55.366116Z",
     "shell.execute_reply": "2024-09-30T08:04:55.364820Z"
    },
    "papermill": {
     "duration": 0.03834,
     "end_time": "2024-09-30T08:04:55.369406",
     "exception": false,
     "start_time": "2024-09-30T08:04:55.331066",
     "status": "completed"
    },
    "tags": []
   },
   "outputs": [
    {
     "data": {
      "text/html": [
       "<style>#sk-container-id-2 {color: black;background-color: white;}#sk-container-id-2 pre{padding: 0;}#sk-container-id-2 div.sk-toggleable {background-color: white;}#sk-container-id-2 label.sk-toggleable__label {cursor: pointer;display: block;width: 100%;margin-bottom: 0;padding: 0.3em;box-sizing: border-box;text-align: center;}#sk-container-id-2 label.sk-toggleable__label-arrow:before {content: \"▸\";float: left;margin-right: 0.25em;color: #696969;}#sk-container-id-2 label.sk-toggleable__label-arrow:hover:before {color: black;}#sk-container-id-2 div.sk-estimator:hover label.sk-toggleable__label-arrow:before {color: black;}#sk-container-id-2 div.sk-toggleable__content {max-height: 0;max-width: 0;overflow: hidden;text-align: left;background-color: #f0f8ff;}#sk-container-id-2 div.sk-toggleable__content pre {margin: 0.2em;color: black;border-radius: 0.25em;background-color: #f0f8ff;}#sk-container-id-2 input.sk-toggleable__control:checked~div.sk-toggleable__content {max-height: 200px;max-width: 100%;overflow: auto;}#sk-container-id-2 input.sk-toggleable__control:checked~label.sk-toggleable__label-arrow:before {content: \"▾\";}#sk-container-id-2 div.sk-estimator input.sk-toggleable__control:checked~label.sk-toggleable__label {background-color: #d4ebff;}#sk-container-id-2 div.sk-label input.sk-toggleable__control:checked~label.sk-toggleable__label {background-color: #d4ebff;}#sk-container-id-2 input.sk-hidden--visually {border: 0;clip: rect(1px 1px 1px 1px);clip: rect(1px, 1px, 1px, 1px);height: 1px;margin: -1px;overflow: hidden;padding: 0;position: absolute;width: 1px;}#sk-container-id-2 div.sk-estimator {font-family: monospace;background-color: #f0f8ff;border: 1px dotted black;border-radius: 0.25em;box-sizing: border-box;margin-bottom: 0.5em;}#sk-container-id-2 div.sk-estimator:hover {background-color: #d4ebff;}#sk-container-id-2 div.sk-parallel-item::after {content: \"\";width: 100%;border-bottom: 1px solid gray;flex-grow: 1;}#sk-container-id-2 div.sk-label:hover label.sk-toggleable__label {background-color: #d4ebff;}#sk-container-id-2 div.sk-serial::before {content: \"\";position: absolute;border-left: 1px solid gray;box-sizing: border-box;top: 0;bottom: 0;left: 50%;z-index: 0;}#sk-container-id-2 div.sk-serial {display: flex;flex-direction: column;align-items: center;background-color: white;padding-right: 0.2em;padding-left: 0.2em;position: relative;}#sk-container-id-2 div.sk-item {position: relative;z-index: 1;}#sk-container-id-2 div.sk-parallel {display: flex;align-items: stretch;justify-content: center;background-color: white;position: relative;}#sk-container-id-2 div.sk-item::before, #sk-container-id-2 div.sk-parallel-item::before {content: \"\";position: absolute;border-left: 1px solid gray;box-sizing: border-box;top: 0;bottom: 0;left: 50%;z-index: -1;}#sk-container-id-2 div.sk-parallel-item {display: flex;flex-direction: column;z-index: 1;position: relative;background-color: white;}#sk-container-id-2 div.sk-parallel-item:first-child::after {align-self: flex-end;width: 50%;}#sk-container-id-2 div.sk-parallel-item:last-child::after {align-self: flex-start;width: 50%;}#sk-container-id-2 div.sk-parallel-item:only-child::after {width: 0;}#sk-container-id-2 div.sk-dashed-wrapped {border: 1px dashed gray;margin: 0 0.4em 0.5em 0.4em;box-sizing: border-box;padding-bottom: 0.4em;background-color: white;}#sk-container-id-2 div.sk-label label {font-family: monospace;font-weight: bold;display: inline-block;line-height: 1.2em;}#sk-container-id-2 div.sk-label-container {text-align: center;}#sk-container-id-2 div.sk-container {/* jupyter's `normalize.less` sets `[hidden] { display: none; }` but bootstrap.min.css set `[hidden] { display: none !important; }` so we also need the `!important` here to be able to override the default hidden behavior on the sphinx rendered scikit-learn.org. See: https://github.com/scikit-learn/scikit-learn/issues/21755 */display: inline-block !important;position: relative;}#sk-container-id-2 div.sk-text-repr-fallback {display: none;}</style><div id=\"sk-container-id-2\" class=\"sk-top-container\"><div class=\"sk-text-repr-fallback\"><pre>OneHotEncoder()</pre><b>In a Jupyter environment, please rerun this cell to show the HTML representation or trust the notebook. <br />On GitHub, the HTML representation is unable to render, please try loading this page with nbviewer.org.</b></div><div class=\"sk-container\" hidden><div class=\"sk-item\"><div class=\"sk-estimator sk-toggleable\"><input class=\"sk-toggleable__control sk-hidden--visually\" id=\"sk-estimator-id-2\" type=\"checkbox\" checked><label for=\"sk-estimator-id-2\" class=\"sk-toggleable__label sk-toggleable__label-arrow\">OneHotEncoder</label><div class=\"sk-toggleable__content\"><pre>OneHotEncoder()</pre></div></div></div></div></div>"
      ],
      "text/plain": [
       "OneHotEncoder()"
      ]
     },
     "execution_count": 19,
     "metadata": {},
     "output_type": "execute_result"
    }
   ],
   "source": [
    "cat_encoder.fit(pd.concat([X_train_data[str_cat],test_data[str_cat]]))"
   ]
  },
  {
   "cell_type": "code",
   "execution_count": 20,
   "id": "96ef7e12",
   "metadata": {
    "execution": {
     "iopub.execute_input": "2024-09-30T08:04:55.407274Z",
     "iopub.status.busy": "2024-09-30T08:04:55.405167Z",
     "iopub.status.idle": "2024-09-30T08:04:55.431929Z",
     "shell.execute_reply": "2024-09-30T08:04:55.430671Z"
    },
    "papermill": {
     "duration": 0.047057,
     "end_time": "2024-09-30T08:04:55.435709",
     "exception": false,
     "start_time": "2024-09-30T08:04:55.388652",
     "status": "completed"
    },
    "tags": []
   },
   "outputs": [],
   "source": [
    "X_train_data = OneHotE(X_train_data,str_cat,cat_encoder)\n",
    "test_data = OneHotE(test_data,str_cat,cat_encoder)"
   ]
  },
  {
   "cell_type": "markdown",
   "id": "c6ff23d2",
   "metadata": {
    "papermill": {
     "duration": 0.014257,
     "end_time": "2024-09-30T08:04:55.469379",
     "exception": false,
     "start_time": "2024-09-30T08:04:55.455122",
     "status": "completed"
    },
    "tags": []
   },
   "source": [
    "**Training a model:**"
   ]
  },
  {
   "cell_type": "code",
   "execution_count": 21,
   "id": "b19f1f4b",
   "metadata": {
    "execution": {
     "iopub.execute_input": "2024-09-30T08:04:55.502341Z",
     "iopub.status.busy": "2024-09-30T08:04:55.501172Z",
     "iopub.status.idle": "2024-09-30T08:04:55.507617Z",
     "shell.execute_reply": "2024-09-30T08:04:55.506049Z"
    },
    "papermill": {
     "duration": 0.026849,
     "end_time": "2024-09-30T08:04:55.511204",
     "exception": false,
     "start_time": "2024-09-30T08:04:55.484355",
     "status": "completed"
    },
    "tags": []
   },
   "outputs": [],
   "source": [
    "pipeline = Pipeline([(\"classifier\",RandomForestClassifier(random_state=42))])"
   ]
  },
  {
   "cell_type": "code",
   "execution_count": 22,
   "id": "4d7a8ddc",
   "metadata": {
    "execution": {
     "iopub.execute_input": "2024-09-30T08:04:55.545249Z",
     "iopub.status.busy": "2024-09-30T08:04:55.544596Z",
     "iopub.status.idle": "2024-09-30T08:04:55.551729Z",
     "shell.execute_reply": "2024-09-30T08:04:55.550468Z"
    },
    "papermill": {
     "duration": 0.026347,
     "end_time": "2024-09-30T08:04:55.554719",
     "exception": false,
     "start_time": "2024-09-30T08:04:55.528372",
     "status": "completed"
    },
    "tags": []
   },
   "outputs": [],
   "source": [
    "param_grid = [{\"classifier__n_estimators\":[80,90,100,120],\"classifier__criterion\":[\"gini\",\"entropy\",\"log_loss\"]}] "
   ]
  },
  {
   "cell_type": "code",
   "execution_count": 23,
   "id": "464afa6f",
   "metadata": {
    "execution": {
     "iopub.execute_input": "2024-09-30T08:04:55.596512Z",
     "iopub.status.busy": "2024-09-30T08:04:55.596050Z",
     "iopub.status.idle": "2024-09-30T08:04:55.603010Z",
     "shell.execute_reply": "2024-09-30T08:04:55.601251Z"
    },
    "papermill": {
     "duration": 0.032094,
     "end_time": "2024-09-30T08:04:55.606263",
     "exception": false,
     "start_time": "2024-09-30T08:04:55.574169",
     "status": "completed"
    },
    "tags": []
   },
   "outputs": [],
   "source": [
    "grid_search = GridSearchCV(pipeline,param_grid,cv=3,scoring=\"accuracy\")"
   ]
  },
  {
   "cell_type": "code",
   "execution_count": 24,
   "id": "75e3d4b0",
   "metadata": {
    "execution": {
     "iopub.execute_input": "2024-09-30T08:04:55.643336Z",
     "iopub.status.busy": "2024-09-30T08:04:55.642447Z",
     "iopub.status.idle": "2024-09-30T08:05:08.667626Z",
     "shell.execute_reply": "2024-09-30T08:05:08.666256Z"
    },
    "papermill": {
     "duration": 13.046537,
     "end_time": "2024-09-30T08:05:08.670284",
     "exception": false,
     "start_time": "2024-09-30T08:04:55.623747",
     "status": "completed"
    },
    "tags": []
   },
   "outputs": [
    {
     "data": {
      "text/html": [
       "<style>#sk-container-id-3 {color: black;background-color: white;}#sk-container-id-3 pre{padding: 0;}#sk-container-id-3 div.sk-toggleable {background-color: white;}#sk-container-id-3 label.sk-toggleable__label {cursor: pointer;display: block;width: 100%;margin-bottom: 0;padding: 0.3em;box-sizing: border-box;text-align: center;}#sk-container-id-3 label.sk-toggleable__label-arrow:before {content: \"▸\";float: left;margin-right: 0.25em;color: #696969;}#sk-container-id-3 label.sk-toggleable__label-arrow:hover:before {color: black;}#sk-container-id-3 div.sk-estimator:hover label.sk-toggleable__label-arrow:before {color: black;}#sk-container-id-3 div.sk-toggleable__content {max-height: 0;max-width: 0;overflow: hidden;text-align: left;background-color: #f0f8ff;}#sk-container-id-3 div.sk-toggleable__content pre {margin: 0.2em;color: black;border-radius: 0.25em;background-color: #f0f8ff;}#sk-container-id-3 input.sk-toggleable__control:checked~div.sk-toggleable__content {max-height: 200px;max-width: 100%;overflow: auto;}#sk-container-id-3 input.sk-toggleable__control:checked~label.sk-toggleable__label-arrow:before {content: \"▾\";}#sk-container-id-3 div.sk-estimator input.sk-toggleable__control:checked~label.sk-toggleable__label {background-color: #d4ebff;}#sk-container-id-3 div.sk-label input.sk-toggleable__control:checked~label.sk-toggleable__label {background-color: #d4ebff;}#sk-container-id-3 input.sk-hidden--visually {border: 0;clip: rect(1px 1px 1px 1px);clip: rect(1px, 1px, 1px, 1px);height: 1px;margin: -1px;overflow: hidden;padding: 0;position: absolute;width: 1px;}#sk-container-id-3 div.sk-estimator {font-family: monospace;background-color: #f0f8ff;border: 1px dotted black;border-radius: 0.25em;box-sizing: border-box;margin-bottom: 0.5em;}#sk-container-id-3 div.sk-estimator:hover {background-color: #d4ebff;}#sk-container-id-3 div.sk-parallel-item::after {content: \"\";width: 100%;border-bottom: 1px solid gray;flex-grow: 1;}#sk-container-id-3 div.sk-label:hover label.sk-toggleable__label {background-color: #d4ebff;}#sk-container-id-3 div.sk-serial::before {content: \"\";position: absolute;border-left: 1px solid gray;box-sizing: border-box;top: 0;bottom: 0;left: 50%;z-index: 0;}#sk-container-id-3 div.sk-serial {display: flex;flex-direction: column;align-items: center;background-color: white;padding-right: 0.2em;padding-left: 0.2em;position: relative;}#sk-container-id-3 div.sk-item {position: relative;z-index: 1;}#sk-container-id-3 div.sk-parallel {display: flex;align-items: stretch;justify-content: center;background-color: white;position: relative;}#sk-container-id-3 div.sk-item::before, #sk-container-id-3 div.sk-parallel-item::before {content: \"\";position: absolute;border-left: 1px solid gray;box-sizing: border-box;top: 0;bottom: 0;left: 50%;z-index: -1;}#sk-container-id-3 div.sk-parallel-item {display: flex;flex-direction: column;z-index: 1;position: relative;background-color: white;}#sk-container-id-3 div.sk-parallel-item:first-child::after {align-self: flex-end;width: 50%;}#sk-container-id-3 div.sk-parallel-item:last-child::after {align-self: flex-start;width: 50%;}#sk-container-id-3 div.sk-parallel-item:only-child::after {width: 0;}#sk-container-id-3 div.sk-dashed-wrapped {border: 1px dashed gray;margin: 0 0.4em 0.5em 0.4em;box-sizing: border-box;padding-bottom: 0.4em;background-color: white;}#sk-container-id-3 div.sk-label label {font-family: monospace;font-weight: bold;display: inline-block;line-height: 1.2em;}#sk-container-id-3 div.sk-label-container {text-align: center;}#sk-container-id-3 div.sk-container {/* jupyter's `normalize.less` sets `[hidden] { display: none; }` but bootstrap.min.css set `[hidden] { display: none !important; }` so we also need the `!important` here to be able to override the default hidden behavior on the sphinx rendered scikit-learn.org. See: https://github.com/scikit-learn/scikit-learn/issues/21755 */display: inline-block !important;position: relative;}#sk-container-id-3 div.sk-text-repr-fallback {display: none;}</style><div id=\"sk-container-id-3\" class=\"sk-top-container\"><div class=\"sk-text-repr-fallback\"><pre>GridSearchCV(cv=3,\n",
       "             estimator=Pipeline(steps=[(&#x27;classifier&#x27;,\n",
       "                                        RandomForestClassifier(random_state=42))]),\n",
       "             param_grid=[{&#x27;classifier__criterion&#x27;: [&#x27;gini&#x27;, &#x27;entropy&#x27;,\n",
       "                                                    &#x27;log_loss&#x27;],\n",
       "                          &#x27;classifier__n_estimators&#x27;: [80, 90, 100, 120]}],\n",
       "             scoring=&#x27;accuracy&#x27;)</pre><b>In a Jupyter environment, please rerun this cell to show the HTML representation or trust the notebook. <br />On GitHub, the HTML representation is unable to render, please try loading this page with nbviewer.org.</b></div><div class=\"sk-container\" hidden><div class=\"sk-item sk-dashed-wrapped\"><div class=\"sk-label-container\"><div class=\"sk-label sk-toggleable\"><input class=\"sk-toggleable__control sk-hidden--visually\" id=\"sk-estimator-id-3\" type=\"checkbox\" ><label for=\"sk-estimator-id-3\" class=\"sk-toggleable__label sk-toggleable__label-arrow\">GridSearchCV</label><div class=\"sk-toggleable__content\"><pre>GridSearchCV(cv=3,\n",
       "             estimator=Pipeline(steps=[(&#x27;classifier&#x27;,\n",
       "                                        RandomForestClassifier(random_state=42))]),\n",
       "             param_grid=[{&#x27;classifier__criterion&#x27;: [&#x27;gini&#x27;, &#x27;entropy&#x27;,\n",
       "                                                    &#x27;log_loss&#x27;],\n",
       "                          &#x27;classifier__n_estimators&#x27;: [80, 90, 100, 120]}],\n",
       "             scoring=&#x27;accuracy&#x27;)</pre></div></div></div><div class=\"sk-parallel\"><div class=\"sk-parallel-item\"><div class=\"sk-item\"><div class=\"sk-label-container\"><div class=\"sk-label sk-toggleable\"><input class=\"sk-toggleable__control sk-hidden--visually\" id=\"sk-estimator-id-4\" type=\"checkbox\" ><label for=\"sk-estimator-id-4\" class=\"sk-toggleable__label sk-toggleable__label-arrow\">estimator: Pipeline</label><div class=\"sk-toggleable__content\"><pre>Pipeline(steps=[(&#x27;classifier&#x27;, RandomForestClassifier(random_state=42))])</pre></div></div></div><div class=\"sk-serial\"><div class=\"sk-item\"><div class=\"sk-serial\"><div class=\"sk-item\"><div class=\"sk-estimator sk-toggleable\"><input class=\"sk-toggleable__control sk-hidden--visually\" id=\"sk-estimator-id-5\" type=\"checkbox\" ><label for=\"sk-estimator-id-5\" class=\"sk-toggleable__label sk-toggleable__label-arrow\">RandomForestClassifier</label><div class=\"sk-toggleable__content\"><pre>RandomForestClassifier(random_state=42)</pre></div></div></div></div></div></div></div></div></div></div></div></div>"
      ],
      "text/plain": [
       "GridSearchCV(cv=3,\n",
       "             estimator=Pipeline(steps=[('classifier',\n",
       "                                        RandomForestClassifier(random_state=42))]),\n",
       "             param_grid=[{'classifier__criterion': ['gini', 'entropy',\n",
       "                                                    'log_loss'],\n",
       "                          'classifier__n_estimators': [80, 90, 100, 120]}],\n",
       "             scoring='accuracy')"
      ]
     },
     "execution_count": 24,
     "metadata": {},
     "output_type": "execute_result"
    }
   ],
   "source": [
    "grid_search.fit(X_train_data,y_train_data.astype('int'))"
   ]
  },
  {
   "cell_type": "code",
   "execution_count": 25,
   "id": "b601e558",
   "metadata": {
    "execution": {
     "iopub.execute_input": "2024-09-30T08:05:08.701602Z",
     "iopub.status.busy": "2024-09-30T08:05:08.701104Z",
     "iopub.status.idle": "2024-09-30T08:05:08.709986Z",
     "shell.execute_reply": "2024-09-30T08:05:08.708524Z"
    },
    "papermill": {
     "duration": 0.028095,
     "end_time": "2024-09-30T08:05:08.712649",
     "exception": false,
     "start_time": "2024-09-30T08:05:08.684554",
     "status": "completed"
    },
    "tags": []
   },
   "outputs": [
    {
     "data": {
      "text/plain": [
       "{'classifier__criterion': 'entropy', 'classifier__n_estimators': 80}"
      ]
     },
     "execution_count": 25,
     "metadata": {},
     "output_type": "execute_result"
    }
   ],
   "source": [
    "grid_search.best_params_\n"
   ]
  },
  {
   "cell_type": "code",
   "execution_count": 26,
   "id": "c27ae7cb",
   "metadata": {
    "execution": {
     "iopub.execute_input": "2024-09-30T08:05:08.744353Z",
     "iopub.status.busy": "2024-09-30T08:05:08.743833Z",
     "iopub.status.idle": "2024-09-30T08:05:08.749838Z",
     "shell.execute_reply": "2024-09-30T08:05:08.748441Z"
    },
    "papermill": {
     "duration": 0.025035,
     "end_time": "2024-09-30T08:05:08.752534",
     "exception": false,
     "start_time": "2024-09-30T08:05:08.727499",
     "status": "completed"
    },
    "tags": []
   },
   "outputs": [],
   "source": [
    "scaler = StandardScaler()"
   ]
  },
  {
   "cell_type": "code",
   "execution_count": 27,
   "id": "0bf8ee09",
   "metadata": {
    "execution": {
     "iopub.execute_input": "2024-09-30T08:05:08.783766Z",
     "iopub.status.busy": "2024-09-30T08:05:08.783279Z",
     "iopub.status.idle": "2024-09-30T08:05:08.975262Z",
     "shell.execute_reply": "2024-09-30T08:05:08.973630Z"
    },
    "papermill": {
     "duration": 0.211749,
     "end_time": "2024-09-30T08:05:08.978894",
     "exception": false,
     "start_time": "2024-09-30T08:05:08.767145",
     "status": "completed"
    },
    "tags": []
   },
   "outputs": [
    {
     "name": "stdout",
     "output_type": "stream",
     "text": [
      "PassengerId\n",
      "Pclass\n",
      "Age\n",
      "SibSp\n",
      "Parch\n",
      "Fare\n",
      "Sex_female\n",
      "Sex_male\n",
      "Cabin_A10\n",
      "Cabin_A11\n",
      "Cabin_A14\n",
      "Cabin_A16\n",
      "Cabin_A18\n",
      "Cabin_A19\n",
      "Cabin_A20\n",
      "Cabin_A21\n",
      "Cabin_A23\n",
      "Cabin_A24\n",
      "Cabin_A26\n",
      "Cabin_A29\n",
      "Cabin_A31\n",
      "Cabin_A32\n",
      "Cabin_A34\n",
      "Cabin_A36\n",
      "Cabin_A5\n",
      "Cabin_A6\n",
      "Cabin_A7\n",
      "Cabin_A9\n",
      "Cabin_B10\n",
      "Cabin_B101\n",
      "Cabin_B102\n",
      "Cabin_B11\n",
      "Cabin_B18\n",
      "Cabin_B19\n",
      "Cabin_B20\n",
      "Cabin_B22\n",
      "Cabin_B24\n",
      "Cabin_B26\n",
      "Cabin_B28\n",
      "Cabin_B3\n",
      "Cabin_B30\n",
      "Cabin_B35\n",
      "Cabin_B36\n",
      "Cabin_B37\n",
      "Cabin_B38\n",
      "Cabin_B39\n",
      "Cabin_B4\n",
      "Cabin_B41\n",
      "Cabin_B42\n",
      "Cabin_B45\n",
      "Cabin_B49\n",
      "Cabin_B5\n",
      "Cabin_B50\n",
      "Cabin_B51 B53 B55\n",
      "Cabin_B52 B54 B56\n",
      "Cabin_B57 B59 B63 B66\n",
      "Cabin_B58 B60\n",
      "Cabin_B61\n",
      "Cabin_B69\n",
      "Cabin_B71\n",
      "Cabin_B73\n",
      "Cabin_B77\n",
      "Cabin_B78\n",
      "Cabin_B79\n",
      "Cabin_B80\n",
      "Cabin_B82 B84\n",
      "Cabin_B86\n",
      "Cabin_B94\n",
      "Cabin_B96 B98\n",
      "Cabin_C101\n",
      "Cabin_C103\n",
      "Cabin_C104\n",
      "Cabin_C105\n",
      "Cabin_C106\n",
      "Cabin_C110\n",
      "Cabin_C111\n",
      "Cabin_C116\n",
      "Cabin_C118\n",
      "Cabin_C123\n",
      "Cabin_C124\n",
      "Cabin_C125\n",
      "Cabin_C126\n",
      "Cabin_C128\n",
      "Cabin_C130\n",
      "Cabin_C132\n",
      "Cabin_C148\n",
      "Cabin_C2\n",
      "Cabin_C22 C26\n",
      "Cabin_C23 C25 C27\n",
      "Cabin_C28\n",
      "Cabin_C30\n",
      "Cabin_C31\n",
      "Cabin_C32\n",
      "Cabin_C39\n",
      "Cabin_C45\n",
      "Cabin_C46\n",
      "Cabin_C47\n",
      "Cabin_C49\n",
      "Cabin_C50\n",
      "Cabin_C51\n",
      "Cabin_C52\n",
      "Cabin_C53\n",
      "Cabin_C54\n",
      "Cabin_C55 C57\n",
      "Cabin_C6\n",
      "Cabin_C62 C64\n",
      "Cabin_C65\n",
      "Cabin_C68\n",
      "Cabin_C7\n",
      "Cabin_C70\n",
      "Cabin_C78\n",
      "Cabin_C80\n",
      "Cabin_C82\n",
      "Cabin_C83\n",
      "Cabin_C85\n",
      "Cabin_C86\n",
      "Cabin_C87\n",
      "Cabin_C89\n",
      "Cabin_C90\n",
      "Cabin_C91\n",
      "Cabin_C92\n",
      "Cabin_C93\n",
      "Cabin_C95\n",
      "Cabin_C97\n",
      "Cabin_C99\n",
      "Cabin_D\n",
      "Cabin_D10 D12\n",
      "Cabin_D11\n",
      "Cabin_D15\n",
      "Cabin_D17\n",
      "Cabin_D19\n",
      "Cabin_D20\n",
      "Cabin_D21\n",
      "Cabin_D22\n",
      "Cabin_D26\n",
      "Cabin_D28\n",
      "Cabin_D30\n",
      "Cabin_D33\n",
      "Cabin_D34\n",
      "Cabin_D35\n",
      "Cabin_D36\n",
      "Cabin_D37\n",
      "Cabin_D38\n",
      "Cabin_D40\n",
      "Cabin_D43\n",
      "Cabin_D45\n",
      "Cabin_D46\n",
      "Cabin_D47\n",
      "Cabin_D48\n",
      "Cabin_D49\n",
      "Cabin_D50\n",
      "Cabin_D56\n",
      "Cabin_D6\n",
      "Cabin_D7\n",
      "Cabin_D9\n",
      "Cabin_E10\n",
      "Cabin_E101\n",
      "Cabin_E12\n",
      "Cabin_E121\n",
      "Cabin_E17\n",
      "Cabin_E24\n",
      "Cabin_E25\n",
      "Cabin_E31\n",
      "Cabin_E33\n",
      "Cabin_E34\n",
      "Cabin_E36\n",
      "Cabin_E38\n",
      "Cabin_E39 E41\n",
      "Cabin_E40\n",
      "Cabin_E44\n",
      "Cabin_E45\n",
      "Cabin_E46\n",
      "Cabin_E49\n",
      "Cabin_E50\n",
      "Cabin_E52\n",
      "Cabin_E58\n",
      "Cabin_E60\n",
      "Cabin_E63\n",
      "Cabin_E67\n",
      "Cabin_E68\n",
      "Cabin_E77\n",
      "Cabin_E8\n",
      "Cabin_F\n",
      "Cabin_F E46\n",
      "Cabin_F E57\n",
      "Cabin_F E69\n",
      "Cabin_F G63\n",
      "Cabin_F G73\n",
      "Cabin_F2\n",
      "Cabin_F33\n",
      "Cabin_F38\n",
      "Cabin_F4\n",
      "Cabin_G6\n",
      "Cabin_T\n",
      "Embarked_C\n",
      "Embarked_Q\n",
      "Embarked_S\n"
     ]
    }
   ],
   "source": [
    "for column in X_train_data.columns:\n",
    "    print(column)\n",
    "    X_train_data[column] = scaler.fit_transform(np.array(X_train_data[column]).reshape(-1,1))"
   ]
  },
  {
   "cell_type": "code",
   "execution_count": 28,
   "id": "3461c4f0",
   "metadata": {
    "execution": {
     "iopub.execute_input": "2024-09-30T08:05:09.011275Z",
     "iopub.status.busy": "2024-09-30T08:05:09.010765Z",
     "iopub.status.idle": "2024-09-30T08:05:09.017203Z",
     "shell.execute_reply": "2024-09-30T08:05:09.015960Z"
    },
    "papermill": {
     "duration": 0.026715,
     "end_time": "2024-09-30T08:05:09.020139",
     "exception": false,
     "start_time": "2024-09-30T08:05:08.993424",
     "status": "completed"
    },
    "tags": []
   },
   "outputs": [],
   "source": [
    "pipeline = Pipeline([(\"classifier\",SVC(kernel='poly',random_state=42))])"
   ]
  },
  {
   "cell_type": "code",
   "execution_count": 29,
   "id": "8f1be364",
   "metadata": {
    "execution": {
     "iopub.execute_input": "2024-09-30T08:05:09.052772Z",
     "iopub.status.busy": "2024-09-30T08:05:09.051323Z",
     "iopub.status.idle": "2024-09-30T08:05:09.057815Z",
     "shell.execute_reply": "2024-09-30T08:05:09.056415Z"
    },
    "papermill": {
     "duration": 0.025946,
     "end_time": "2024-09-30T08:05:09.060757",
     "exception": false,
     "start_time": "2024-09-30T08:05:09.034811",
     "status": "completed"
    },
    "tags": []
   },
   "outputs": [],
   "source": [
    "param_grid = [{\"classifier__C\":[0.5,1,2,6],\n",
    "               \"classifier__coef0\":[0.5,1,2],\n",
    "              \"classifier__degree\":[2,3]}] "
   ]
  },
  {
   "cell_type": "code",
   "execution_count": 30,
   "id": "d61072b1",
   "metadata": {
    "execution": {
     "iopub.execute_input": "2024-09-30T08:05:09.092960Z",
     "iopub.status.busy": "2024-09-30T08:05:09.092428Z",
     "iopub.status.idle": "2024-09-30T08:05:09.098831Z",
     "shell.execute_reply": "2024-09-30T08:05:09.097389Z"
    },
    "papermill": {
     "duration": 0.026033,
     "end_time": "2024-09-30T08:05:09.101798",
     "exception": false,
     "start_time": "2024-09-30T08:05:09.075765",
     "status": "completed"
    },
    "tags": []
   },
   "outputs": [],
   "source": [
    "grid_search = GridSearchCV(pipeline,param_grid,cv=3,scoring=\"accuracy\")"
   ]
  },
  {
   "cell_type": "code",
   "execution_count": 31,
   "id": "609157c7",
   "metadata": {
    "execution": {
     "iopub.execute_input": "2024-09-30T08:05:09.133184Z",
     "iopub.status.busy": "2024-09-30T08:05:09.132705Z",
     "iopub.status.idle": "2024-09-30T08:05:14.024069Z",
     "shell.execute_reply": "2024-09-30T08:05:14.022263Z"
    },
    "papermill": {
     "duration": 4.910654,
     "end_time": "2024-09-30T08:05:14.027148",
     "exception": false,
     "start_time": "2024-09-30T08:05:09.116494",
     "status": "completed"
    },
    "tags": []
   },
   "outputs": [
    {
     "name": "stdout",
     "output_type": "stream",
     "text": [
      "CPU times: user 4.79 s, sys: 81.5 ms, total: 4.87 s\n",
      "Wall time: 4.87 s\n"
     ]
    },
    {
     "data": {
      "text/html": [
       "<style>#sk-container-id-4 {color: black;background-color: white;}#sk-container-id-4 pre{padding: 0;}#sk-container-id-4 div.sk-toggleable {background-color: white;}#sk-container-id-4 label.sk-toggleable__label {cursor: pointer;display: block;width: 100%;margin-bottom: 0;padding: 0.3em;box-sizing: border-box;text-align: center;}#sk-container-id-4 label.sk-toggleable__label-arrow:before {content: \"▸\";float: left;margin-right: 0.25em;color: #696969;}#sk-container-id-4 label.sk-toggleable__label-arrow:hover:before {color: black;}#sk-container-id-4 div.sk-estimator:hover label.sk-toggleable__label-arrow:before {color: black;}#sk-container-id-4 div.sk-toggleable__content {max-height: 0;max-width: 0;overflow: hidden;text-align: left;background-color: #f0f8ff;}#sk-container-id-4 div.sk-toggleable__content pre {margin: 0.2em;color: black;border-radius: 0.25em;background-color: #f0f8ff;}#sk-container-id-4 input.sk-toggleable__control:checked~div.sk-toggleable__content {max-height: 200px;max-width: 100%;overflow: auto;}#sk-container-id-4 input.sk-toggleable__control:checked~label.sk-toggleable__label-arrow:before {content: \"▾\";}#sk-container-id-4 div.sk-estimator input.sk-toggleable__control:checked~label.sk-toggleable__label {background-color: #d4ebff;}#sk-container-id-4 div.sk-label input.sk-toggleable__control:checked~label.sk-toggleable__label {background-color: #d4ebff;}#sk-container-id-4 input.sk-hidden--visually {border: 0;clip: rect(1px 1px 1px 1px);clip: rect(1px, 1px, 1px, 1px);height: 1px;margin: -1px;overflow: hidden;padding: 0;position: absolute;width: 1px;}#sk-container-id-4 div.sk-estimator {font-family: monospace;background-color: #f0f8ff;border: 1px dotted black;border-radius: 0.25em;box-sizing: border-box;margin-bottom: 0.5em;}#sk-container-id-4 div.sk-estimator:hover {background-color: #d4ebff;}#sk-container-id-4 div.sk-parallel-item::after {content: \"\";width: 100%;border-bottom: 1px solid gray;flex-grow: 1;}#sk-container-id-4 div.sk-label:hover label.sk-toggleable__label {background-color: #d4ebff;}#sk-container-id-4 div.sk-serial::before {content: \"\";position: absolute;border-left: 1px solid gray;box-sizing: border-box;top: 0;bottom: 0;left: 50%;z-index: 0;}#sk-container-id-4 div.sk-serial {display: flex;flex-direction: column;align-items: center;background-color: white;padding-right: 0.2em;padding-left: 0.2em;position: relative;}#sk-container-id-4 div.sk-item {position: relative;z-index: 1;}#sk-container-id-4 div.sk-parallel {display: flex;align-items: stretch;justify-content: center;background-color: white;position: relative;}#sk-container-id-4 div.sk-item::before, #sk-container-id-4 div.sk-parallel-item::before {content: \"\";position: absolute;border-left: 1px solid gray;box-sizing: border-box;top: 0;bottom: 0;left: 50%;z-index: -1;}#sk-container-id-4 div.sk-parallel-item {display: flex;flex-direction: column;z-index: 1;position: relative;background-color: white;}#sk-container-id-4 div.sk-parallel-item:first-child::after {align-self: flex-end;width: 50%;}#sk-container-id-4 div.sk-parallel-item:last-child::after {align-self: flex-start;width: 50%;}#sk-container-id-4 div.sk-parallel-item:only-child::after {width: 0;}#sk-container-id-4 div.sk-dashed-wrapped {border: 1px dashed gray;margin: 0 0.4em 0.5em 0.4em;box-sizing: border-box;padding-bottom: 0.4em;background-color: white;}#sk-container-id-4 div.sk-label label {font-family: monospace;font-weight: bold;display: inline-block;line-height: 1.2em;}#sk-container-id-4 div.sk-label-container {text-align: center;}#sk-container-id-4 div.sk-container {/* jupyter's `normalize.less` sets `[hidden] { display: none; }` but bootstrap.min.css set `[hidden] { display: none !important; }` so we also need the `!important` here to be able to override the default hidden behavior on the sphinx rendered scikit-learn.org. See: https://github.com/scikit-learn/scikit-learn/issues/21755 */display: inline-block !important;position: relative;}#sk-container-id-4 div.sk-text-repr-fallback {display: none;}</style><div id=\"sk-container-id-4\" class=\"sk-top-container\"><div class=\"sk-text-repr-fallback\"><pre>GridSearchCV(cv=3,\n",
       "             estimator=Pipeline(steps=[(&#x27;classifier&#x27;,\n",
       "                                        SVC(kernel=&#x27;poly&#x27;, random_state=42))]),\n",
       "             param_grid=[{&#x27;classifier__C&#x27;: [0.5, 1, 2, 6],\n",
       "                          &#x27;classifier__coef0&#x27;: [0.5, 1, 2],\n",
       "                          &#x27;classifier__degree&#x27;: [2, 3]}],\n",
       "             scoring=&#x27;accuracy&#x27;)</pre><b>In a Jupyter environment, please rerun this cell to show the HTML representation or trust the notebook. <br />On GitHub, the HTML representation is unable to render, please try loading this page with nbviewer.org.</b></div><div class=\"sk-container\" hidden><div class=\"sk-item sk-dashed-wrapped\"><div class=\"sk-label-container\"><div class=\"sk-label sk-toggleable\"><input class=\"sk-toggleable__control sk-hidden--visually\" id=\"sk-estimator-id-6\" type=\"checkbox\" ><label for=\"sk-estimator-id-6\" class=\"sk-toggleable__label sk-toggleable__label-arrow\">GridSearchCV</label><div class=\"sk-toggleable__content\"><pre>GridSearchCV(cv=3,\n",
       "             estimator=Pipeline(steps=[(&#x27;classifier&#x27;,\n",
       "                                        SVC(kernel=&#x27;poly&#x27;, random_state=42))]),\n",
       "             param_grid=[{&#x27;classifier__C&#x27;: [0.5, 1, 2, 6],\n",
       "                          &#x27;classifier__coef0&#x27;: [0.5, 1, 2],\n",
       "                          &#x27;classifier__degree&#x27;: [2, 3]}],\n",
       "             scoring=&#x27;accuracy&#x27;)</pre></div></div></div><div class=\"sk-parallel\"><div class=\"sk-parallel-item\"><div class=\"sk-item\"><div class=\"sk-label-container\"><div class=\"sk-label sk-toggleable\"><input class=\"sk-toggleable__control sk-hidden--visually\" id=\"sk-estimator-id-7\" type=\"checkbox\" ><label for=\"sk-estimator-id-7\" class=\"sk-toggleable__label sk-toggleable__label-arrow\">estimator: Pipeline</label><div class=\"sk-toggleable__content\"><pre>Pipeline(steps=[(&#x27;classifier&#x27;, SVC(kernel=&#x27;poly&#x27;, random_state=42))])</pre></div></div></div><div class=\"sk-serial\"><div class=\"sk-item\"><div class=\"sk-serial\"><div class=\"sk-item\"><div class=\"sk-estimator sk-toggleable\"><input class=\"sk-toggleable__control sk-hidden--visually\" id=\"sk-estimator-id-8\" type=\"checkbox\" ><label for=\"sk-estimator-id-8\" class=\"sk-toggleable__label sk-toggleable__label-arrow\">SVC</label><div class=\"sk-toggleable__content\"><pre>SVC(kernel=&#x27;poly&#x27;, random_state=42)</pre></div></div></div></div></div></div></div></div></div></div></div></div>"
      ],
      "text/plain": [
       "GridSearchCV(cv=3,\n",
       "             estimator=Pipeline(steps=[('classifier',\n",
       "                                        SVC(kernel='poly', random_state=42))]),\n",
       "             param_grid=[{'classifier__C': [0.5, 1, 2, 6],\n",
       "                          'classifier__coef0': [0.5, 1, 2],\n",
       "                          'classifier__degree': [2, 3]}],\n",
       "             scoring='accuracy')"
      ]
     },
     "execution_count": 31,
     "metadata": {},
     "output_type": "execute_result"
    }
   ],
   "source": [
    "%%time\n",
    "grid_search.fit(X_train_data,y_train_data.astype('int'))"
   ]
  },
  {
   "cell_type": "code",
   "execution_count": 32,
   "id": "12433642",
   "metadata": {
    "execution": {
     "iopub.execute_input": "2024-09-30T08:05:14.062240Z",
     "iopub.status.busy": "2024-09-30T08:05:14.061714Z",
     "iopub.status.idle": "2024-09-30T08:05:14.072476Z",
     "shell.execute_reply": "2024-09-30T08:05:14.070975Z"
    },
    "papermill": {
     "duration": 0.031439,
     "end_time": "2024-09-30T08:05:14.075063",
     "exception": false,
     "start_time": "2024-09-30T08:05:14.043624",
     "status": "completed"
    },
    "tags": []
   },
   "outputs": [],
   "source": [
    "cv_res = pd.DataFrame(grid_search.cv_results_)\n",
    "cv_res.sort_values(by=\"mean_test_score\", ascending=False, inplace=True)"
   ]
  },
  {
   "cell_type": "code",
   "execution_count": 33,
   "id": "61079cd0",
   "metadata": {
    "execution": {
     "iopub.execute_input": "2024-09-30T08:05:14.109573Z",
     "iopub.status.busy": "2024-09-30T08:05:14.108175Z",
     "iopub.status.idle": "2024-09-30T08:05:14.136621Z",
     "shell.execute_reply": "2024-09-30T08:05:14.135221Z"
    },
    "papermill": {
     "duration": 0.049068,
     "end_time": "2024-09-30T08:05:14.139815",
     "exception": false,
     "start_time": "2024-09-30T08:05:14.090747",
     "status": "completed"
    },
    "tags": []
   },
   "outputs": [
    {
     "data": {
      "text/html": [
       "<div>\n",
       "<style scoped>\n",
       "    .dataframe tbody tr th:only-of-type {\n",
       "        vertical-align: middle;\n",
       "    }\n",
       "\n",
       "    .dataframe tbody tr th {\n",
       "        vertical-align: top;\n",
       "    }\n",
       "\n",
       "    .dataframe thead th {\n",
       "        text-align: right;\n",
       "    }\n",
       "</style>\n",
       "<table border=\"1\" class=\"dataframe\">\n",
       "  <thead>\n",
       "    <tr style=\"text-align: right;\">\n",
       "      <th></th>\n",
       "      <th>mean_fit_time</th>\n",
       "      <th>std_fit_time</th>\n",
       "      <th>mean_score_time</th>\n",
       "      <th>std_score_time</th>\n",
       "      <th>param_classifier__C</th>\n",
       "      <th>param_classifier__coef0</th>\n",
       "      <th>param_classifier__degree</th>\n",
       "      <th>params</th>\n",
       "      <th>split0_test_score</th>\n",
       "      <th>split1_test_score</th>\n",
       "      <th>split2_test_score</th>\n",
       "      <th>mean_test_score</th>\n",
       "      <th>std_test_score</th>\n",
       "      <th>rank_test_score</th>\n",
       "    </tr>\n",
       "  </thead>\n",
       "  <tbody>\n",
       "    <tr>\n",
       "      <th>23</th>\n",
       "      <td>0.046394</td>\n",
       "      <td>0.002842</td>\n",
       "      <td>0.017352</td>\n",
       "      <td>0.000643</td>\n",
       "      <td>6</td>\n",
       "      <td>2</td>\n",
       "      <td>3</td>\n",
       "      <td>{'classifier__C': 6, 'classifier__coef0': 2, '...</td>\n",
       "      <td>0.804714</td>\n",
       "      <td>0.821549</td>\n",
       "      <td>0.808081</td>\n",
       "      <td>0.811448</td>\n",
       "      <td>0.007274</td>\n",
       "      <td>1</td>\n",
       "    </tr>\n",
       "    <tr>\n",
       "      <th>21</th>\n",
       "      <td>0.043934</td>\n",
       "      <td>0.001275</td>\n",
       "      <td>0.017935</td>\n",
       "      <td>0.000881</td>\n",
       "      <td>6</td>\n",
       "      <td>1</td>\n",
       "      <td>3</td>\n",
       "      <td>{'classifier__C': 6, 'classifier__coef0': 1, '...</td>\n",
       "      <td>0.794613</td>\n",
       "      <td>0.814815</td>\n",
       "      <td>0.787879</td>\n",
       "      <td>0.799102</td>\n",
       "      <td>0.011446</td>\n",
       "      <td>2</td>\n",
       "    </tr>\n",
       "    <tr>\n",
       "      <th>22</th>\n",
       "      <td>0.044091</td>\n",
       "      <td>0.000882</td>\n",
       "      <td>0.048183</td>\n",
       "      <td>0.043772</td>\n",
       "      <td>6</td>\n",
       "      <td>2</td>\n",
       "      <td>2</td>\n",
       "      <td>{'classifier__C': 6, 'classifier__coef0': 2, '...</td>\n",
       "      <td>0.797980</td>\n",
       "      <td>0.808081</td>\n",
       "      <td>0.781145</td>\n",
       "      <td>0.795735</td>\n",
       "      <td>0.011111</td>\n",
       "      <td>3</td>\n",
       "    </tr>\n",
       "    <tr>\n",
       "      <th>20</th>\n",
       "      <td>0.043634</td>\n",
       "      <td>0.001373</td>\n",
       "      <td>0.018820</td>\n",
       "      <td>0.000398</td>\n",
       "      <td>6</td>\n",
       "      <td>1</td>\n",
       "      <td>2</td>\n",
       "      <td>{'classifier__C': 6, 'classifier__coef0': 1, '...</td>\n",
       "      <td>0.797980</td>\n",
       "      <td>0.808081</td>\n",
       "      <td>0.781145</td>\n",
       "      <td>0.795735</td>\n",
       "      <td>0.011111</td>\n",
       "      <td>3</td>\n",
       "    </tr>\n",
       "    <tr>\n",
       "      <th>5</th>\n",
       "      <td>0.043007</td>\n",
       "      <td>0.002106</td>\n",
       "      <td>0.017442</td>\n",
       "      <td>0.000368</td>\n",
       "      <td>0.5</td>\n",
       "      <td>2</td>\n",
       "      <td>3</td>\n",
       "      <td>{'classifier__C': 0.5, 'classifier__coef0': 2,...</td>\n",
       "      <td>0.797980</td>\n",
       "      <td>0.808081</td>\n",
       "      <td>0.781145</td>\n",
       "      <td>0.795735</td>\n",
       "      <td>0.011111</td>\n",
       "      <td>3</td>\n",
       "    </tr>\n",
       "  </tbody>\n",
       "</table>\n",
       "</div>"
      ],
      "text/plain": [
       "    mean_fit_time  std_fit_time  mean_score_time  std_score_time  \\\n",
       "23       0.046394      0.002842         0.017352        0.000643   \n",
       "21       0.043934      0.001275         0.017935        0.000881   \n",
       "22       0.044091      0.000882         0.048183        0.043772   \n",
       "20       0.043634      0.001373         0.018820        0.000398   \n",
       "5        0.043007      0.002106         0.017442        0.000368   \n",
       "\n",
       "   param_classifier__C param_classifier__coef0 param_classifier__degree  \\\n",
       "23                   6                       2                        3   \n",
       "21                   6                       1                        3   \n",
       "22                   6                       2                        2   \n",
       "20                   6                       1                        2   \n",
       "5                  0.5                       2                        3   \n",
       "\n",
       "                                               params  split0_test_score  \\\n",
       "23  {'classifier__C': 6, 'classifier__coef0': 2, '...           0.804714   \n",
       "21  {'classifier__C': 6, 'classifier__coef0': 1, '...           0.794613   \n",
       "22  {'classifier__C': 6, 'classifier__coef0': 2, '...           0.797980   \n",
       "20  {'classifier__C': 6, 'classifier__coef0': 1, '...           0.797980   \n",
       "5   {'classifier__C': 0.5, 'classifier__coef0': 2,...           0.797980   \n",
       "\n",
       "    split1_test_score  split2_test_score  mean_test_score  std_test_score  \\\n",
       "23           0.821549           0.808081         0.811448        0.007274   \n",
       "21           0.814815           0.787879         0.799102        0.011446   \n",
       "22           0.808081           0.781145         0.795735        0.011111   \n",
       "20           0.808081           0.781145         0.795735        0.011111   \n",
       "5            0.808081           0.781145         0.795735        0.011111   \n",
       "\n",
       "    rank_test_score  \n",
       "23                1  \n",
       "21                2  \n",
       "22                3  \n",
       "20                3  \n",
       "5                 3  "
      ]
     },
     "execution_count": 33,
     "metadata": {},
     "output_type": "execute_result"
    }
   ],
   "source": [
    "cv_res.head()"
   ]
  },
  {
   "cell_type": "markdown",
   "id": "966a84f6",
   "metadata": {
    "papermill": {
     "duration": 0.016171,
     "end_time": "2024-09-30T08:05:14.172120",
     "exception": false,
     "start_time": "2024-09-30T08:05:14.155949",
     "status": "completed"
    },
    "tags": []
   },
   "source": [
    "**Final Evaluation:**"
   ]
  },
  {
   "cell_type": "code",
   "execution_count": 34,
   "id": "b33f0552",
   "metadata": {
    "execution": {
     "iopub.execute_input": "2024-09-30T08:05:14.207356Z",
     "iopub.status.busy": "2024-09-30T08:05:14.206910Z",
     "iopub.status.idle": "2024-09-30T08:05:14.242233Z",
     "shell.execute_reply": "2024-09-30T08:05:14.240869Z"
    },
    "papermill": {
     "duration": 0.05667,
     "end_time": "2024-09-30T08:05:14.245515",
     "exception": false,
     "start_time": "2024-09-30T08:05:14.188845",
     "status": "completed"
    },
    "tags": []
   },
   "outputs": [],
   "source": [
    "final_evaluation = grid_search.predict(test_data)"
   ]
  },
  {
   "cell_type": "code",
   "execution_count": 35,
   "id": "e5f06a6b",
   "metadata": {
    "execution": {
     "iopub.execute_input": "2024-09-30T08:05:14.281215Z",
     "iopub.status.busy": "2024-09-30T08:05:14.280756Z",
     "iopub.status.idle": "2024-09-30T08:05:14.296104Z",
     "shell.execute_reply": "2024-09-30T08:05:14.294582Z"
    },
    "papermill": {
     "duration": 0.037643,
     "end_time": "2024-09-30T08:05:14.299283",
     "exception": false,
     "start_time": "2024-09-30T08:05:14.261640",
     "status": "completed"
    },
    "tags": []
   },
   "outputs": [
    {
     "data": {
      "text/html": [
       "<div>\n",
       "<style scoped>\n",
       "    .dataframe tbody tr th:only-of-type {\n",
       "        vertical-align: middle;\n",
       "    }\n",
       "\n",
       "    .dataframe tbody tr th {\n",
       "        vertical-align: top;\n",
       "    }\n",
       "\n",
       "    .dataframe thead th {\n",
       "        text-align: right;\n",
       "    }\n",
       "</style>\n",
       "<table border=\"1\" class=\"dataframe\">\n",
       "  <thead>\n",
       "    <tr style=\"text-align: right;\">\n",
       "      <th></th>\n",
       "      <th>PassengerId</th>\n",
       "      <th>Survived</th>\n",
       "    </tr>\n",
       "  </thead>\n",
       "  <tbody>\n",
       "    <tr>\n",
       "      <th>0</th>\n",
       "      <td>892</td>\n",
       "      <td>0</td>\n",
       "    </tr>\n",
       "    <tr>\n",
       "      <th>1</th>\n",
       "      <td>893</td>\n",
       "      <td>0</td>\n",
       "    </tr>\n",
       "    <tr>\n",
       "      <th>2</th>\n",
       "      <td>894</td>\n",
       "      <td>0</td>\n",
       "    </tr>\n",
       "    <tr>\n",
       "      <th>3</th>\n",
       "      <td>895</td>\n",
       "      <td>0</td>\n",
       "    </tr>\n",
       "    <tr>\n",
       "      <th>4</th>\n",
       "      <td>896</td>\n",
       "      <td>0</td>\n",
       "    </tr>\n",
       "    <tr>\n",
       "      <th>...</th>\n",
       "      <td>...</td>\n",
       "      <td>...</td>\n",
       "    </tr>\n",
       "    <tr>\n",
       "      <th>413</th>\n",
       "      <td>1305</td>\n",
       "      <td>0</td>\n",
       "    </tr>\n",
       "    <tr>\n",
       "      <th>414</th>\n",
       "      <td>1306</td>\n",
       "      <td>0</td>\n",
       "    </tr>\n",
       "    <tr>\n",
       "      <th>415</th>\n",
       "      <td>1307</td>\n",
       "      <td>0</td>\n",
       "    </tr>\n",
       "    <tr>\n",
       "      <th>416</th>\n",
       "      <td>1308</td>\n",
       "      <td>0</td>\n",
       "    </tr>\n",
       "    <tr>\n",
       "      <th>417</th>\n",
       "      <td>1309</td>\n",
       "      <td>0</td>\n",
       "    </tr>\n",
       "  </tbody>\n",
       "</table>\n",
       "<p>418 rows × 2 columns</p>\n",
       "</div>"
      ],
      "text/plain": [
       "     PassengerId  Survived\n",
       "0            892         0\n",
       "1            893         0\n",
       "2            894         0\n",
       "3            895         0\n",
       "4            896         0\n",
       "..           ...       ...\n",
       "413         1305         0\n",
       "414         1306         0\n",
       "415         1307         0\n",
       "416         1308         0\n",
       "417         1309         0\n",
       "\n",
       "[418 rows x 2 columns]"
      ]
     },
     "execution_count": 35,
     "metadata": {},
     "output_type": "execute_result"
    }
   ],
   "source": [
    "\n",
    "d = {'PassengerId':np.arange(len(final_evaluation)) + 1+891,'Survived':final_evaluation}\n",
    "df = pd.DataFrame(data=d)\n",
    "df"
   ]
  },
  {
   "cell_type": "code",
   "execution_count": 36,
   "id": "afab0e21",
   "metadata": {
    "execution": {
     "iopub.execute_input": "2024-09-30T08:05:14.336631Z",
     "iopub.status.busy": "2024-09-30T08:05:14.336188Z",
     "iopub.status.idle": "2024-09-30T08:05:14.345517Z",
     "shell.execute_reply": "2024-09-30T08:05:14.344116Z"
    },
    "papermill": {
     "duration": 0.031801,
     "end_time": "2024-09-30T08:05:14.349240",
     "exception": false,
     "start_time": "2024-09-30T08:05:14.317439",
     "status": "completed"
    },
    "tags": []
   },
   "outputs": [],
   "source": [
    "df.to_csv('out.csv',index=False)"
   ]
  },
  {
   "cell_type": "code",
   "execution_count": null,
   "id": "d0e9f0f2",
   "metadata": {
    "papermill": {
     "duration": 0.016779,
     "end_time": "2024-09-30T08:05:14.384455",
     "exception": false,
     "start_time": "2024-09-30T08:05:14.367676",
     "status": "completed"
    },
    "tags": []
   },
   "outputs": [],
   "source": []
  }
 ],
 "metadata": {
  "kaggle": {
   "accelerator": "none",
   "dataSources": [
    {
     "databundleVersionId": 26502,
     "sourceId": 3136,
     "sourceType": "competition"
    }
   ],
   "dockerImageVersionId": 30761,
   "isGpuEnabled": false,
   "isInternetEnabled": false,
   "language": "python",
   "sourceType": "notebook"
  },
  "kernelspec": {
   "display_name": "Python 3",
   "language": "python",
   "name": "python3"
  },
  "language_info": {
   "codemirror_mode": {
    "name": "ipython",
    "version": 3
   },
   "file_extension": ".py",
   "mimetype": "text/x-python",
   "name": "python",
   "nbconvert_exporter": "python",
   "pygments_lexer": "ipython3",
   "version": "3.10.14"
  },
  "papermill": {
   "default_parameters": {},
   "duration": 27.869075,
   "end_time": "2024-09-30T08:05:15.225447",
   "environment_variables": {},
   "exception": null,
   "input_path": "__notebook__.ipynb",
   "output_path": "__notebook__.ipynb",
   "parameters": {},
   "start_time": "2024-09-30T08:04:47.356372",
   "version": "2.6.0"
  }
 },
 "nbformat": 4,
 "nbformat_minor": 5
}
